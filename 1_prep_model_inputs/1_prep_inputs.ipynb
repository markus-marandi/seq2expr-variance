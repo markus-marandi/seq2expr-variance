{
 "cells": [
  {
   "metadata": {},
   "cell_type": "markdown",
   "source": "# 1. Prepare inputs",
   "id": "671a568181f12094"
  },
  {
   "metadata": {},
   "cell_type": "markdown",
   "source": "## 1. Annotate ±2 kb Promoter Windows with “Open/Closed” Flag",
   "id": "a3f69bbd4fd34e37"
  },
  {
   "metadata": {},
   "cell_type": "markdown",
   "source": [
    "We begin with two BED files (dataset1 and dataset2), each listing 15 promoter windows around TSS:\n",
    "- Columns: chromosome, start, end, id_base, expr_value, expr_rank, overlaps\n",
    "- Our goal is to add an `open_flag` (1 or 0) indicating whether that 2 kb window overlaps any skeletal‐muscle ATAC‐seq peak (ENCFF150TGS.bed).\n",
    "- This tissue‐specific accessibility flag will let us down‐weight or filter variants in closed promoters.\n",
    "\n",
    "ATAC-seq measures genome-wide chromatin accessibility, and peaks are areas where the chromatin is accessible"
   ],
   "id": "e22ae5a5771ef24c"
  },
  {
   "metadata": {
    "ExecuteTime": {
     "end_time": "2025-06-08T15:56:40.998356Z",
     "start_time": "2025-06-08T15:56:40.995488Z"
    }
   },
   "cell_type": "code",
   "source": [
    "import os\n",
    "import pandas as pd\n",
    "from pybedtools import BedTool\n",
    "import numpy as np\n",
    "from pyfaidx import Fasta\n",
    "import csv\n",
    "import pysam"
   ],
   "id": "e306f0b0b52d971",
   "outputs": [],
   "execution_count": 17
  },
  {
   "metadata": {
    "ExecuteTime": {
     "end_time": "2025-06-08T15:31:16.257994Z",
     "start_time": "2025-06-08T15:31:16.255082Z"
    }
   },
   "cell_type": "code",
   "source": [
    "BED1 = \"../data/intermediate/dataset1/chr20_test15_tss±2kb.bed\"\n",
    "BED2 = \"../data/intermediate/dataset2/chr20_test15_tss±2kb.bed\"\n",
    "\n",
    "# skeletal-muscle ATAC‐seq peaks BED\n",
    "ATAC_BED = \"../data/initial/ENCFF150TGS.bed\"\n",
    "\n",
    "# Output paths (append \"_with_open.bed\")\n",
    "OUT1 = BED1.replace(\".bed\", \"_with_open.bed\")\n",
    "OUT2 = BED2.replace(\".bed\", \"_with_open.bed\")"
   ],
   "id": "3f270804ba655e60",
   "outputs": [],
   "execution_count": 2
  },
  {
   "metadata": {
    "ExecuteTime": {
     "end_time": "2025-06-08T15:32:18.378315Z",
     "start_time": "2025-06-08T15:32:18.375010Z"
    }
   },
   "cell_type": "code",
   "source": [
    "def load_promoter_bed(path):\n",
    "    \"\"\"\n",
    "    - `start`/`end` → `int`\n",
    "    - `expr_value`/`expr_rank` → `float`\n",
    "    - `id_base`, `chromosome`, `overlaps` → `str`\n",
    "    \"\"\"\n",
    "    cols = [\"chromosome\",\"start\",\"end\",\"id_base\",\"expr_value\",\"expr_rank\",\"overlaps\"]\n",
    "\n",
    "    df = pd.read_csv(\n",
    "        path,\n",
    "        sep=\"\\t\",\n",
    "        names=cols,\n",
    "        skiprows=1,\n",
    "        dtype={\n",
    "            \"chromosome\": str,\n",
    "            \"id_base\":    str,\n",
    "            \"overlaps\":   str\n",
    "        },\n",
    "        engine=\"python\"\n",
    "    )\n",
    "\n",
    "    df[\"start\"]      = df[\"start\"].astype(int)\n",
    "    df[\"end\"]        = df[\"end\"].astype(int)\n",
    "    df[\"expr_value\"] = df[\"expr_value\"].astype(float)\n",
    "    df[\"expr_rank\"]  = df[\"expr_rank\"].astype(float)\n",
    "\n",
    "    return df\n",
    "\n",
    "#df1 = load_promoter_bed(BED1)\n",
    "#print(\"Dataset1 promoter windows (first 5 rows):\")\n",
    "#print(df1.head())"
   ],
   "id": "e5419209918ea8b1",
   "outputs": [],
   "execution_count": 6
  },
  {
   "metadata": {},
   "cell_type": "markdown",
   "source": "## 2. Annotate “open” promoters via intersection",
   "id": "5d8817416fbeb1f4"
  },
  {
   "metadata": {
    "ExecuteTime": {
     "end_time": "2025-06-08T15:37:20.948351Z",
     "start_time": "2025-06-08T15:37:20.944788Z"
    }
   },
   "cell_type": "code",
   "source": [
    "def annotate_open(promoter_df, atac_bed_obj):\n",
    "    \"\"\"\n",
    "    Given a promoter DataFrame (with columns chromosome,start,end,id_base, …),\n",
    "    create a BedTool from its first four columns, intersect with ATAC peaks,\n",
    "    then build an 'open_flag' column = 1 if that promoter overlaps any peak, else 0.\n",
    "    \"\"\"\n",
    "    # creating a bedtool from just the first four columns: (chrom, start, end, id_base)\n",
    "    bed_in = promoter_df[[\"chromosome\",\"start\",\"end\",\"id_base\"]]\n",
    "    promoter_bed = BedTool.from_dataframe(bed_in)\n",
    "\n",
    "    # Intersect with ATAC_BED; -u ensures we get each promoter only once if it overlaps\n",
    "    promoter_open = promoter_bed.intersect(atac_bed_obj, u=True)\n",
    "\n",
    "    # Build a set of id_base for promoters that overlapped at least one ATAC peak\n",
    "    open_ids = {f.fields[3] for f in promoter_open}\n",
    "\n",
    "    # Assign open_flag = 1 if id_base in open_ids, else 0\n",
    "    promoter_df[\"open_flag\"] = promoter_df[\"id_base\"].apply(lambda g: 1 if g in open_ids else 0)\n",
    "    return promoter_df"
   ],
   "id": "2796403c836cea5d",
   "outputs": [],
   "execution_count": 7
  },
  {
   "metadata": {
    "ExecuteTime": {
     "end_time": "2025-06-08T15:37:48.685450Z",
     "start_time": "2025-06-08T15:37:48.517044Z"
    }
   },
   "cell_type": "code",
   "source": [
    "def main():\n",
    "    atac = BedTool(ATAC_BED)\n",
    "\n",
    "    print(\"Annotating dataset1 …\")\n",
    "    df1 = load_promoter_bed(BED1)\n",
    "    df1_annot = annotate_open(df1, atac)\n",
    "    # Write out eight columns: (chrom, start, end, id_base, expr_val, expr_rank, overlaps, open_flag)\n",
    "    df1_annot.to_csv(\n",
    "        OUT1,\n",
    "        sep=\"\\t\",\n",
    "        index=False,\n",
    "        header=False,\n",
    "        columns=[\n",
    "            \"chromosome\",\"start\",\"end\",\"id_base\",\n",
    "            \"expr_value\",\"expr_rank\",\"overlaps\",\"open_flag\"\n",
    "        ]\n",
    "    )\n",
    "    print(\"Wrote:\", OUT1)\n",
    "\n",
    "    print(\"Annotating dataset2 …\")\n",
    "    df2 = load_promoter_bed(BED2)\n",
    "    df2_annot = annotate_open(df2, atac)\n",
    "    df2_annot.to_csv(\n",
    "        OUT2,\n",
    "        sep=\"\\t\",\n",
    "        index=False,\n",
    "        header=False,\n",
    "        columns=[\n",
    "            \"chromosome\",\"start\",\"end\",\"id_base\",\n",
    "            \"expr_value\",\"expr_rank\",\"overlaps\",\"open_flag\"\n",
    "        ]\n",
    "    )\n",
    "    print(\"Wrote:\", OUT2)\n",
    "\n",
    "\n",
    "if __name__ == \"__main__\":\n",
    "    main()"
   ],
   "id": "14153dc3a75f5c19",
   "outputs": [
    {
     "name": "stdout",
     "output_type": "stream",
     "text": [
      "Annotating dataset1 …\n",
      "Wrote: ../data/intermediate/dataset1/chr20_test15_tss±2kb_with_open.bed\n",
      "Annotating dataset2 …\n",
      "Wrote: ../data/intermediate/dataset2/chr20_test15_tss±2kb_with_open.bed\n"
     ]
    }
   ],
   "execution_count": 8
  },
  {
   "metadata": {},
   "cell_type": "markdown",
   "source": "## 2. Grow ±2 kb Promoters to 524 kb & One‐Hot Encode",
   "id": "80a32700c030d1c4"
  },
  {
   "metadata": {},
   "cell_type": "markdown",
   "source": [
    "Now that we have our `_with_open.bed` files (with `open_flag`), we next:\n",
    "\n",
    "1. Read each 2 kb window.\n",
    "2. Compute its true TSS = `start + 2000`.\n",
    "3. Expand to ±262 144 bp (total 524 288 bp).\n",
    "4. Fetch that sequence from hg38 FASTA, padding with “N” if we hit chr ends.\n",
    "5. One‐hot encode A/C/G/T → 4 × 524 288 float32 array.\n",
    "6. Save each array as `GENE.npy`, and collect its metadata (path, expr_value, expr_rank, overlaps, open_flag).\n",
    "7. Dump a `flashzoi_meta.tsv` for each dataset to drive downstream predictions."
   ],
   "id": "402caa19ccab2451"
  },
  {
   "metadata": {
    "ExecuteTime": {
     "end_time": "2025-06-08T15:55:45.069094Z",
     "start_time": "2025-06-08T15:55:45.066237Z"
    }
   },
   "cell_type": "code",
   "source": [
    "IN_BED1 = \"../data/intermediate/dataset1/chr20_test15_tss±2kb_with_open.bed\"\n",
    "IN_BED2 = \"../data/intermediate/dataset2/chr20_test15_tss±2kb_with_open.bed\"\n",
    "\n",
    "OUT1_BED = \"../data/intermediate/dataset1/chr20_test15_tss±2kb_with_open.bed\"\n",
    "OUT2_BED = \"../data/intermediate/dataset2/chr20_test15_tss±2kb_with_open.bed\"\n",
    "REF_FASTA = \"../data/initial/GRCh38.primary_assembly.genome.fa\""
   ],
   "id": "7960601eb8cbf734",
   "outputs": [],
   "execution_count": 12
  },
  {
   "metadata": {
    "ExecuteTime": {
     "end_time": "2025-06-08T15:55:45.652145Z",
     "start_time": "2025-06-08T15:55:45.648737Z"
    }
   },
   "cell_type": "code",
   "source": [
    "# Flashzoi and Borzoi wants 524 kb windows. That is ±262 kb around the TSS.\n",
    "FULL_WINDOW = 524_288  # exactly 2^19 = 524,288 bp\n",
    "HALF_WIN    = FULL_WINDOW // 2  # 262,144\n",
    "\n",
    "def one_hot_encode(seq):\n",
    "    \"\"\"\n",
    "    Turn an uppercase DNA string into a (4, L) float32 array:\n",
    "      A → [1,0,0,0]\n",
    "      C → [0,1,0,0]\n",
    "      G → [0,0,1,0]\n",
    "      T → [0,0,0,1]\n",
    "      anything else (N) → [0,0,0,0]\n",
    "    \"\"\"\n",
    "    # create an array shape (4, len(seq))\n",
    "    L = len(seq)\n",
    "    arr = np.zeros((4, L), dtype=np.float32)\n",
    "    mapping = {'A':0, 'C':1, 'G':2, 'T':3}     # mapping bases to row indices\n",
    "    for i, base in enumerate(seq):\n",
    "        if base in mapping:\n",
    "            arr[mapping[base], i] = 1.0\n",
    "    return arr"
   ],
   "id": "938a50f73077663f",
   "outputs": [],
   "execution_count": 13
  },
  {
   "metadata": {
    "ExecuteTime": {
     "end_time": "2025-06-08T15:55:46.252080Z",
     "start_time": "2025-06-08T15:55:46.248704Z"
    }
   },
   "cell_type": "code",
   "source": [
    "def extract_524kb_onehot(chrom, tss, fasta_obj):\n",
    "    \"\"\"\n",
    "    given chr 20 and TSS coordinate,\n",
    "    return a (4, 524288) numpy one-hot array.\n",
    "    If we run off the chromosome edge, we pad with zeros at that side. # TODO: is that okay now\n",
    "    \"\"\"\n",
    "    # coordinates in pyfaidx are 1-based inclusive, so we convert.\n",
    "    # pyfaidx.Fasta[...] expects something like fasta[\"chr20\"][start-1:end].\n",
    "    tss0 = tss - 1  # convert to python 0-based, because our TSS is 1-based\n",
    "\n",
    "    left  = tss0 - HALF_WIN\n",
    "    right = tss0 + HALF_WIN - 1  # inclusive index so that total length = 524,288\n",
    "\n",
    "    # If left < 0 or right ≥ chrom length, we’ll pad.\n",
    "    seq_chars = []\n",
    "    # part from left..right\n",
    "    if left < 0:\n",
    "        # pad on left with Ns\n",
    "        seq_chars.append(\"N\" * (-left))\n",
    "        left = 0\n",
    "    # now retrieve from FASTA\n",
    "    chrom_seq = fasta_obj[chrom]  # FASTA record object\n",
    "    chrom_len = len(chrom_seq)\n",
    "    if right >= chrom_len:\n",
    "        # fetch from left..end, then pad on right\n",
    "        seq_chars.append(str(chrom_seq[left:]))  # pyfaidx returns Seq object, cast to str\n",
    "        pad_len = right - (chrom_len - 1)\n",
    "        seq_chars.append(\"N\" * pad_len)\n",
    "    else:\n",
    "        # normal case: just slice left..right\n",
    "        seq_chars.append(str(chrom_seq[left : right + 1]))\n",
    "\n",
    "    final_seq = \"\".join(seq_chars).upper()\n",
    "    if len(final_seq) != FULL_WINDOW:\n",
    "        raise ValueError(\n",
    "            f\"One-hot sequence length mismatch: got {len(final_seq)}, expected {FULL_WINDOW}\"\n",
    "        )\n",
    "\n",
    "    return one_hot_encode(final_seq)"
   ],
   "id": "36d9521c60f64aa",
   "outputs": [],
   "execution_count": 14
  },
  {
   "metadata": {
    "ExecuteTime": {
     "end_time": "2025-06-08T15:56:04.369094Z",
     "start_time": "2025-06-08T15:56:02.846185Z"
    }
   },
   "cell_type": "code",
   "source": [
    "def prepare_for_flashzoi(in_bed, out_dir_prefix):\n",
    "    \"\"\"\n",
    "    1) Read your 2 kb BED (with expr_value and expr_rank in columns 5/6).\n",
    "    2) For each line, expand to 524 kb, fetch one-hot, save as .npy,\n",
    "       and write a small JSON or TSV record of metadata (ID + expr stats).\n",
    "    \"\"\"\n",
    "    # Load the BED with headers (7 columns):\n",
    "    #  chrom   start   end   id_base  expr_value  expr_rank  overlaps\n",
    "    cols = [\"chromosome\",\"start\",\"end\",\"id_base\",\"expr_value\",\"expr_rank\",\"overlaps\",\"open_flag\"]\n",
    "    df2kb = pd.read_csv(in_bed, sep=\"\\t\", comment=\"#\", names=cols)\n",
    "\n",
    "    fasta = Fasta(REF_FASTA)\n",
    "\n",
    "    # lets also build a small TSV that maps each sample → expression/value metadata\n",
    "    meta = []\n",
    "    for idx, r in df2kb.iterrows():\n",
    "        gene = r.id_base\n",
    "        chrom = r.chromosome\n",
    "        # r.start/r.end = ±2 kb window;\n",
    "        # but the TSS is actually at (start + 2000) #TODO: ask Philipp this\n",
    "        tss = r.start + 2000\n",
    "\n",
    "        # Fetch one-hot  (4 × 524,288)\n",
    "        onehot = extract_524kb_onehot(chrom, tss, fasta)\n",
    "\n",
    "        # Save one-hot to .npy\n",
    "        out_npy = os.path.join(out_dir_prefix, f\"{gene}.npy\")\n",
    "        np.save(out_npy, onehot)\n",
    "\n",
    "        # Record metadata for downstream:\n",
    "        #   gene, TPM, expr_rank, any overlaps (2 kb overlap list), and path to .npy\n",
    "        meta.append({\n",
    "            \"gene\":        gene,\n",
    "            \"onehot_path\": out_npy,\n",
    "            \"expr_value\":  float(r.expr_value),\n",
    "            \"expr_rank\":   float(r.expr_rank),\n",
    "            \"overlaps2kb\": r.overlaps\n",
    "        })\n",
    "\n",
    "        print(f\"[{idx+1}/{len(df2kb)}] Saved {gene}.npy\")\n",
    "\n",
    "    # Dump metadata TSV so we can join predictions back to expr later\n",
    "    meta_df = pd.DataFrame(meta)\n",
    "    meta_df.to_csv(os.path.join(out_dir_prefix, \"flashzoi_meta.tsv\"),\n",
    "                   sep=\"\\t\", index=False)\n",
    "\n",
    "    print(\"Done prepping\")\n",
    "\n",
    "\n",
    "if __name__==\"__main__\":\n",
    "    # creating now one folder per dataset to hold .npy + meta.tsv\n",
    "    ds1_dir = os.path.join(OUT1_BED.replace(\".bed\",\"\"), \"flashzoi_inputs\")\n",
    "    ds2_dir = os.path.join(OUT2_BED.replace(\".bed\",\"\"), \"flashzoi_inputs\")\n",
    "    os.makedirs(ds1_dir, exist_ok=True)\n",
    "    os.makedirs(ds2_dir, exist_ok=True)\n",
    "\n",
    "    print(\"Preparing dataset1...\")\n",
    "    prepare_for_flashzoi(IN_BED1, ds1_dir)\n",
    "\n",
    "    print(\"Preparing dataset2...\")\n",
    "    prepare_for_flashzoi(IN_BED2, ds2_dir)\n",
    "\n",
    "    print(\"Saved 524 kb one-hot inputs + a meta.tsv for each dataset\")"
   ],
   "id": "185d9b2e506bdb00",
   "outputs": [
    {
     "name": "stdout",
     "output_type": "stream",
     "text": [
      "Preparing dataset1...\n",
      "[1/15] Saved ENSG00000077984.npy\n",
      "[2/15] Saved ENSG00000197122.npy\n",
      "[3/15] Saved ENSG00000101333.npy\n",
      "[4/15] Saved ENSG00000020256.npy\n",
      "[5/15] Saved ENSG00000170191.npy\n",
      "[6/15] Saved ENSG00000149639.npy\n",
      "[7/15] Saved ENSG00000088827.npy\n",
      "[8/15] Saved ENSG00000124217.npy\n",
      "[9/15] Saved ENSG00000089123.npy\n",
      "[10/15] Saved ENSG00000171940.npy\n",
      "[11/15] Saved ENSG00000089057.npy\n",
      "[12/15] Saved ENSG00000101052.npy\n",
      "[13/15] Saved ENSG00000131061.npy\n",
      "[14/15] Saved ENSG00000158445.npy\n",
      "[15/15] Saved ENSG00000196839.npy\n",
      "Done prepping\n",
      "Preparing dataset2...\n",
      "[1/15] Saved ENSG00000171984.npy\n",
      "[2/15] Saved ENSG00000101000.npy\n",
      "[3/15] Saved ENSG00000078699.npy\n",
      "[4/15] Saved ENSG00000125821.npy\n",
      "[5/15] Saved ENSG00000130699.npy\n",
      "[6/15] Saved ENSG00000080189.npy\n",
      "[7/15] Saved ENSG00000126005.npy\n",
      "[8/15] Saved ENSG00000130703.npy\n",
      "[9/15] Saved ENSG00000243509.npy\n",
      "[10/15] Saved ENSG00000088298.npy\n",
      "[11/15] Saved ENSG00000042062.npy\n",
      "[12/15] Saved ENSG00000125971.npy\n",
      "[13/15] Saved ENSG00000101216.npy\n",
      "[14/15] Saved ENSG00000129988.npy\n",
      "[15/15] Saved ENSG00000240849.npy\n",
      "Done prepping\n",
      "Saved 524 kb one-hot inputs + a meta.tsv for each dataset\n"
     ]
    }
   ],
   "execution_count": 16
  },
  {
   "metadata": {},
   "cell_type": "markdown",
   "source": "## 3. Annotate variants",
   "id": "d60977cbfee6da0c"
  },
  {
   "metadata": {
    "ExecuteTime": {
     "end_time": "2025-06-08T16:30:37.112749Z",
     "start_time": "2025-06-08T16:30:37.110889Z"
    }
   },
   "cell_type": "code",
   "source": [
    "META_TSV      = \"../data/intermediate/dataset1/chr20_test15_tss±2kb_with_open/flashzoi_inputs/flashzoi_meta.tsv\"\n",
    "MANE_SUMMARY  = \"../data/initial/MANE.GRCh38.v1.4.summary.txt\"\n",
    "GNOMAD_VCF    = \"../data/initial/gnomad.genomes.v4.1.sites.chr20.vcf.bgz\"\n",
    "OUT_BASE      = \"../data/intermediate/dataset1/flashzoi_inputs/variants\"\n",
    "# Fixed half‐window for a 524 kb total (262 144 = 524 288/2)\n",
    "HALF_WIN = 262_144\n",
    "CHROM    = \"chr20\"\n",
    "EDGE_BUFFER   = 100_000    # skip genes whose TSS is within 100 kb of a chromosome end\n",
    "MIN_AF        = 0.001      # drop variants with AF < 0.001\n"
   ],
   "id": "889ca42f8e1e04e8",
   "outputs": [],
   "execution_count": 27
  },
  {
   "metadata": {},
   "cell_type": "markdown",
   "source": [
    "- META_TSV: this is the per-gene meta file generated when we one-hot-encoded ±2 kb windows (contains gene, onehot_path, expr_value, expr_rank, overlaps2kb, and open_flag column).\n",
    "- MANE_SUMMARY: to re-derive each gene’s canonical TSS (for computing ±262 kb genomic window)\n",
    "- GNOMAD_VCF: bgzipped, indexed VCF of chr20 population variants, to get allele frequencies\n",
    "- OUT_BASE: we’ll drop one subdirectory per gene here, each containing its ENSG…_variants.tsv.\n"
   ],
   "id": "ddc0941add449552"
  },
  {
   "metadata": {},
   "cell_type": "markdown",
   "source": "## 1. build a map gene_id → TSS for cr20 only",
   "id": "e5e1f31611af752e"
  },
  {
   "metadata": {
    "ExecuteTime": {
     "end_time": "2025-06-08T16:30:39.836840Z",
     "start_time": "2025-06-08T16:30:39.832247Z"
    }
   },
   "cell_type": "code",
   "source": [
    "def load_mane_tss(mane_path):\n",
    "    \"\"\"\n",
    "    Reads the MANE summary file, drops duplicate Ensembl_Gene entries,\n",
    "    strips off \".N\" from Ensembl IDs, normalizes NC_000020.## → chr20,\n",
    "    and returns a dict { gene_base → TSS } for only chr20.\n",
    "    \"\"\"\n",
    "    df = pd.read_csv(mane_path, sep=\"\\t\", dtype=str).drop_duplicates(subset=\"Ensembl_Gene\")\n",
    "    # Strip off version suffix\n",
    "    df[\"gene_base\"] = df[\"Ensembl_Gene\"].str.replace(r\"\\.\\d+$\", \"\", regex=True)\n",
    "\n",
    "    # Convert \"NC_000020.11\" → \"chr20\"\n",
    "    df[\"chromosome\"] = df[\"GRCh38_chr\"].str.replace(\n",
    "        r\"^NC_0+(\\d+)\\.\\d+$\", r\"chr\\1\", regex=True\n",
    "    )\n",
    "\n",
    "    # Compute TSS: if '+' strand → chr_start, else ( '-' strand ) → chr_end\n",
    "    def get_tss(row):\n",
    "        return int(row[\"chr_start\"]) if row[\"chr_strand\"] == \"+\" else int(row[\"chr_end\"])\n",
    "\n",
    "    df[\"TSS\"] = df.apply(get_tss, axis=1)\n",
    "\n",
    "    # keeping only chr20\n",
    "    df20 = df[df[\"chromosome\"] == CHROM].copy()\n",
    "    return dict(zip(df20[\"gene_base\"], df20[\"TSS\"]))"
   ],
   "id": "cc512344cbcd55d",
   "outputs": [],
   "execution_count": 28
  },
  {
   "metadata": {},
   "cell_type": "markdown",
   "source": "## 2. Write the header of a per‐gene variants TSV",
   "id": "cb7c4fe54a8911e6"
  },
  {
   "metadata": {
    "ExecuteTime": {
     "end_time": "2025-06-08T16:30:41.426794Z",
     "start_time": "2025-06-08T16:30:41.423984Z"
    }
   },
   "cell_type": "code",
   "source": [
    "def write_variants_header(outfile):\n",
    "    \"\"\"\n",
    "    Creates a TSV with columns:\n",
    "       CHROM, POS, POS0, REF, ALT, AF\n",
    "    \"\"\"\n",
    "    with open(outfile, \"w\", newline=\"\") as fo:\n",
    "        writer = csv.writer(fo, delimiter=\"\\t\")\n",
    "        writer.writerow([\n",
    "            \"CHROM\", \"POS\", \"POS0\", \"REF\", \"ALT\", \"AF\"\n",
    "        ])"
   ],
   "id": "937c90b0d9d16aef",
   "outputs": [],
   "execution_count": 29
  },
  {
   "metadata": {},
   "cell_type": "markdown",
   "source": "## 3. Annotate each gene’s ±262 kb window",
   "id": "f97e8135a4631604"
  },
  {
   "metadata": {
    "ExecuteTime": {
     "end_time": "2025-06-08T16:35:13.711387Z",
     "start_time": "2025-06-08T16:34:32.523325Z"
    }
   },
   "cell_type": "code",
   "source": [
    "def annotate_variants(meta_tsv, mane_summary, vcf_path, out_base):\n",
    "    # 1) loading flashzoi_meta.tsv (must have a column \"gene\" = Ensembl ID without version)\n",
    "    meta_df = pd.read_csv(meta_tsv, sep=\"\\t\")\n",
    "    print(f\"Loaded metadata for {len(meta_df)} genes.\")\n",
    "\n",
    "    # 2) Build the gene→TSS map for chr20\n",
    "    tss_dict = load_mane_tss(mane_summary)\n",
    "    print(f\"Found {len(tss_dict)} chr20 entries in MANE summary.\")\n",
    "\n",
    "    # 3) opening the gnomAD VCF\n",
    "    vcf = pysam.VariantFile(vcf_path)\n",
    "    print(\"Opened gnomAD VCF:\", vcf_path)\n",
    "\n",
    "    #fetch chr length for edge filtering\n",
    "    fasta = Fasta(REF_FASTA)\n",
    "    chr_len = len(fasta[CHROM])\n",
    "\n",
    "\n",
    "    # 4) over each gene in meta_df\n",
    "    for idx, row in meta_df.iterrows():\n",
    "        gene = row[\"gene\"]\n",
    "        if gene not in tss_dict:\n",
    "            print(f\"[{idx+1}/{len(meta_df)}] SKIP {gene} (no chr20 TSS).\")\n",
    "            continue\n",
    "\n",
    "        # Compute that gene’s ±262 144 window (with 1-based coordinates)\n",
    "        tss  = tss_dict[gene]\n",
    "        # skipping genes too close to telomeres\n",
    "        if tss < EDGE_BUFFER or (chr_len - tss) < EDGE_BUFFER:\n",
    "            print(f\"[{idx+1}/{len(meta_df)}] SKIP {gene}: TSS at {tss:,} within {EDGE_BUFFER} bp of chr end\")\n",
    "            continue\n",
    "\n",
    "        left = max(1, tss - HALF_WIN)\n",
    "        right= tss + HALF_WIN - 1\n",
    "        print(f\"[{idx+1}/{len(meta_df)}] {gene}: window = {left}-{right}\")\n",
    "\n",
    "        gene_dir = os.path.join(out_base, gene)\n",
    "        os.makedirs(gene_dir, exist_ok=True)\n",
    "\n",
    "        var_tsv = os.path.join(gene_dir, f\"{gene}_variants.tsv\")\n",
    "        write_variants_header(var_tsv)\n",
    "\n",
    "        # 5) Fetch variants from chr20 between (left - 1, right) in pysam (0-based half-open)\n",
    "        # 5) Fetch & filter variants\n",
    "        for rec in vcf.fetch(CHROM, left - 1, right):\n",
    "            chrom = rec.chrom\n",
    "            pos   = rec.pos\n",
    "            pos0  = pos - left\n",
    "            ref   = rec.ref\n",
    "\n",
    "            # Pull AF and apply threshold\n",
    "            af_val = \"NA\"\n",
    "            if \"AF\" in rec.info and rec.info[\"AF\"] is not None:\n",
    "                entry = rec.info[\"AF\"]\n",
    "                af_val = entry[0] if isinstance(entry, (tuple,list)) else entry\n",
    "                if af_val < MIN_AF:\n",
    "                    continue\n",
    "\n",
    "            for alt in rec.alts:\n",
    "                with open(var_tsv, \"a\", newline=\"\") as fo:\n",
    "                    writer = csv.writer(fo, delimiter=\"\\t\")\n",
    "                    writer.writerow([\n",
    "                        chrom, pos, pos0,\n",
    "                        ref, alt,\n",
    "                        f\"{af_val:.6f}\" if af_val!=\"NA\" else af_val\n",
    "                    ])\n",
    "\n",
    "        print(f\"Wrote variants to {var_tsv}\")\n",
    "\n",
    "    vcf.close()\n",
    "    print(\"Done annotating variants for all genes.\")\n",
    "\n",
    "\n",
    "if __name__ == \"__main__\":\n",
    "    os.makedirs(OUT_BASE, exist_ok=True)\n",
    "\n",
    "    print(\"Annotating 524 kb windows with gnomAD chr20 variants…\")\n",
    "    annotate_variants(META_TSV, MANE_SUMMARY, GNOMAD_VCF, OUT_BASE)\n",
    "    print(\"All variant‐lists are under:\", OUT_BASE)"
   ],
   "id": "3511d53d2282a9d5",
   "outputs": [
    {
     "name": "stdout",
     "output_type": "stream",
     "text": [
      "Annotating 524 kb windows with gnomAD chr20 variants…\n",
      "Loaded metadata for 15 genes.\n",
      "Found 524 chr20 entries in MANE summary.\n",
      "Opened gnomAD VCF: ../data/initial/gnomad.genomes.v4.1.sites.chr20.vcf.bgz\n",
      "[1/15] ENSG00000077984: window = 24687125-25211412\n",
      "Wrote variants to ../data/intermediate/dataset1/flashzoi_inputs/variants/ENSG00000077984/ENSG00000077984_variants.tsv\n",
      "[2/15] ENSG00000197122: window = 37083996-37608283\n",
      "Wrote variants to ../data/intermediate/dataset1/flashzoi_inputs/variants/ENSG00000197122/ENSG00000197122_variants.tsv\n",
      "[3/15] ENSG00000101333: window = 8806943-9331230\n",
      "Wrote variants to ../data/intermediate/dataset1/flashzoi_inputs/variants/ENSG00000101333/ENSG00000101333_variants.tsv\n",
      "[4/15] ENSG00000020256: window = 51929635-52453922\n",
      "Wrote variants to ../data/intermediate/dataset1/flashzoi_inputs/variants/ENSG00000020256/ENSG00000020256_variants.tsv\n",
      "[5/15] ENSG00000170191: window = 25361870-25886157\n",
      "Wrote variants to ../data/intermediate/dataset1/flashzoi_inputs/variants/ENSG00000170191/ENSG00000170191_variants.tsv\n",
      "[6/15] ENSG00000149639: window = 36601394-37125681\n",
      "Wrote variants to ../data/intermediate/dataset1/flashzoi_inputs/variants/ENSG00000149639/ENSG00000149639_variants.tsv\n",
      "[7/15] ENSG00000088827: window = 3450456-3974743\n",
      "Wrote variants to ../data/intermediate/dataset1/flashzoi_inputs/variants/ENSG00000088827/ENSG00000088827_variants.tsv\n",
      "[8/15] ENSG00000124217: window = 50696674-51220961\n",
      "Wrote variants to ../data/intermediate/dataset1/flashzoi_inputs/variants/ENSG00000124217/ENSG00000124217_variants.tsv\n",
      "[9/15] ENSG00000089123: window = 13376788-13901075\n",
      "Wrote variants to ../data/intermediate/dataset1/flashzoi_inputs/variants/ENSG00000089123/ENSG00000089123_variants.tsv\n",
      "[10/15] ENSG00000171940: window = 53331695-53855982\n",
      "Wrote variants to ../data/intermediate/dataset1/flashzoi_inputs/variants/ENSG00000171940/ENSG00000171940_variants.tsv\n",
      "[11/15] ENSG00000089057: window = 4739366-5263653\n",
      "Wrote variants to ../data/intermediate/dataset1/flashzoi_inputs/variants/ENSG00000089057/ENSG00000089057_variants.tsv\n",
      "[12/15] ENSG00000101052: window = 43328793-43853080\n",
      "Wrote variants to ../data/intermediate/dataset1/flashzoi_inputs/variants/ENSG00000101052/ENSG00000101052_variants.tsv\n",
      "[13/15] ENSG00000131061: window = 33469852-33994139\n",
      "Wrote variants to ../data/intermediate/dataset1/flashzoi_inputs/variants/ENSG00000131061/ENSG00000131061_variants.tsv\n",
      "[14/15] ENSG00000158445: window = 49220524-49744811\n",
      "Wrote variants to ../data/intermediate/dataset1/flashzoi_inputs/variants/ENSG00000158445/ENSG00000158445_variants.tsv\n",
      "[15/15] ENSG00000196839: window = 44389555-44913842\n",
      "Wrote variants to ../data/intermediate/dataset1/flashzoi_inputs/variants/ENSG00000196839/ENSG00000196839_variants.tsv\n",
      "Done annotating variants for all genes.\n",
      "All variant‐lists are under: ../data/intermediate/dataset1/flashzoi_inputs/variants\n"
     ]
    }
   ],
   "execution_count": 30
  },
  {
   "metadata": {},
   "cell_type": "markdown",
   "source": "## 4. Checking final data",
   "id": "6b4b82be49fd3f2b"
  },
  {
   "metadata": {
    "ExecuteTime": {
     "end_time": "2025-06-08T17:09:59.927594Z",
     "start_time": "2025-06-08T17:09:59.774280Z"
    }
   },
   "cell_type": "code",
   "source": [
    "import glob, pandas as pd\n",
    "counts = {}\n",
    "for tsv in glob.glob(\"../data/intermediate/dataset1/flashzoi_inputs/variants/*/*.tsv\"):\n",
    "    gene = tsv.split(\"/\")[-2]\n",
    "    df   = pd.read_csv(tsv, sep=\"\\t\")\n",
    "    counts[gene] = len(df)\n",
    "print(pd.Series(counts).describe())\n",
    "# TODO: should we cap the max number variants per gene? or moving the AF filter higher? avg is 18k variants per gene, but one has 150k?"
   ],
   "id": "a8954376cd9ad6af",
   "outputs": [
    {
     "name": "stdout",
     "output_type": "stream",
     "text": [
      "count        17.000000\n",
      "mean      18341.882353\n",
      "std       35480.147880\n",
      "min        6074.000000\n",
      "25%        7095.000000\n",
      "50%        7534.000000\n",
      "75%        7717.000000\n",
      "max      149267.000000\n",
      "dtype: float64\n"
     ]
    }
   ],
   "execution_count": 41
  },
  {
   "metadata": {},
   "cell_type": "markdown",
   "source": "### 2. Allele freq distribution",
   "id": "c975b8a45778d46b"
  },
  {
   "metadata": {
    "ExecuteTime": {
     "end_time": "2025-06-08T17:10:59.511652Z",
     "start_time": "2025-06-08T17:10:58.733723Z"
    }
   },
   "cell_type": "code",
   "source": [
    "import glob, pandas as pd\n",
    "import matplotlib.pyplot as plt\n",
    "\n",
    "paths = glob.glob(\"../data/output/dataset1/flashzoi_inputs/variants/*/*.tsv\")\n",
    "\n",
    "#print(f\"Found {len(paths)} per-gene variant files; e.g. {paths[:3]}\")\n",
    "\n",
    "# build the AF histogram\n",
    "all_af = pd.concat([\n",
    "    pd.read_csv(tsv, sep=\"\\t\")[\"AF\"]\n",
    "        .astype(float)\n",
    "        .dropna()\n",
    "    for tsv in paths\n",
    "], ignore_index=True)\n",
    "\n",
    "plt.hist(all_af, bins=50)\n",
    "plt.xlabel(\"Allele frequency\")\n",
    "plt.ylabel(\"Count\")\n",
    "plt.title(\"AF distribution across variants\")\n",
    "plt.show()"
   ],
   "id": "c5c2825bf62b592b",
   "outputs": [
    {
     "data": {
      "text/plain": [
       "<Figure size 640x480 with 1 Axes>"
      ],
      "image/png": "[encoded data removed]"
     },
     "metadata": {},
     "output_type": "display_data"
    }
   ],
   "execution_count": 44
  },
  {
   "metadata": {
    "ExecuteTime": {
     "end_time": "2025-06-08T19:37:33.733306Z",
     "start_time": "2025-06-08T19:37:33.712272Z"
    }
   },
   "cell_type": "code",
   "source": [
    "VAR_DIR   = \"../data/intermediate/dataset1/flashzoi_inputs/variants\"\n",
    "example = glob.glob(os.path.join(VAR_DIR, \"*\", \"*_variants.tsv\"))[0]\n",
    "print(\"Example file:\", example)\n",
    "pd.read_csv(example, sep=\"\\t\").head()"
   ],
   "id": "682033d0ab8ae6f6",
   "outputs": [
    {
     "name": "stdout",
     "output_type": "stream",
     "text": [
      "Example file: ../data/intermediate/dataset1/flashzoi_inputs/variants/ENSG00000131061/ENSG00000131061_variants.tsv\n"
     ]
    },
    {
     "data": {
      "text/plain": [
       "   CHROM       POS  POS0 REF ALT        AF\n",
       "0  chr20  33471042  1190   A   G  0.001021\n",
       "1  chr20  33471186  1334   T   C  0.001342\n",
       "2  chr20  33471221  1369   C   A  0.010552\n",
       "3  chr20  33471221  1369   C  CA  0.015539\n",
       "4  chr20  33471221  1369  CA   C  0.003863"
      ],
      "text/html": [
       "<div>\n",
       "<style scoped>\n",
       "    .dataframe tbody tr th:only-of-type {\n",
       "        vertical-align: middle;\n",
       "    }\n",
       "\n",
       "    .dataframe tbody tr th {\n",
       "        vertical-align: top;\n",
       "    }\n",
       "\n",
       "    .dataframe thead th {\n",
       "        text-align: right;\n",
       "    }\n",
       "</style>\n",
       "<table border=\"1\" class=\"dataframe\">\n",
       "  <thead>\n",
       "    <tr style=\"text-align: right;\">\n",
       "      <th></th>\n",
       "      <th>CHROM</th>\n",
       "      <th>POS</th>\n",
       "      <th>POS0</th>\n",
       "      <th>REF</th>\n",
       "      <th>ALT</th>\n",
       "      <th>AF</th>\n",
       "    </tr>\n",
       "  </thead>\n",
       "  <tbody>\n",
       "    <tr>\n",
       "      <th>0</th>\n",
       "      <td>chr20</td>\n",
       "      <td>33471042</td>\n",
       "      <td>1190</td>\n",
       "      <td>A</td>\n",
       "      <td>G</td>\n",
       "      <td>0.001021</td>\n",
       "    </tr>\n",
       "    <tr>\n",
       "      <th>1</th>\n",
       "      <td>chr20</td>\n",
       "      <td>33471186</td>\n",
       "      <td>1334</td>\n",
       "      <td>T</td>\n",
       "      <td>C</td>\n",
       "      <td>0.001342</td>\n",
       "    </tr>\n",
       "    <tr>\n",
       "      <th>2</th>\n",
       "      <td>chr20</td>\n",
       "      <td>33471221</td>\n",
       "      <td>1369</td>\n",
       "      <td>C</td>\n",
       "      <td>A</td>\n",
       "      <td>0.010552</td>\n",
       "    </tr>\n",
       "    <tr>\n",
       "      <th>3</th>\n",
       "      <td>chr20</td>\n",
       "      <td>33471221</td>\n",
       "      <td>1369</td>\n",
       "      <td>C</td>\n",
       "      <td>CA</td>\n",
       "      <td>0.015539</td>\n",
       "    </tr>\n",
       "    <tr>\n",
       "      <th>4</th>\n",
       "      <td>chr20</td>\n",
       "      <td>33471221</td>\n",
       "      <td>1369</td>\n",
       "      <td>CA</td>\n",
       "      <td>C</td>\n",
       "      <td>0.003863</td>\n",
       "    </tr>\n",
       "  </tbody>\n",
       "</table>\n",
       "</div>"
      ]
     },
     "execution_count": 46,
     "metadata": {},
     "output_type": "execute_result"
    }
   ],
   "execution_count": 46
  },
  {
   "metadata": {},
   "cell_type": "code",
   "outputs": [],
   "execution_count": null,
   "source": "",
   "id": "75b95a393edda740"
  }
 ],
 "metadata": {
  "kernelspec": {
   "display_name": "Python 3",
   "language": "python",
   "name": "python3"
  },
  "language_info": {
   "codemirror_mode": {
    "name": "ipython",
    "version": 2
   },
   "file_extension": ".py",
   "mimetype": "text/x-python",
   "name": "python",
   "nbconvert_exporter": "python",
   "pygments_lexer": "ipython2",
   "version": "2.7.6"
  }
 },
 "nbformat": 4,
 "nbformat_minor": 5
}
