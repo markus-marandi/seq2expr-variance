{
 "cells": [
  {
   "metadata": {},
   "cell_type": "markdown",
   "source": "# 1. Prepare inputs",
   "id": "671a568181f12094"
  },
  {
   "metadata": {},
   "cell_type": "markdown",
   "source": "## 1. Annotate Promoter Windows with “Open/Closed” Flag",
   "id": "a3f69bbd4fd34e37"
  },
  {
   "metadata": {},
   "cell_type": "markdown",
   "source": [
    "We begin with two BED files (dataset1 and dataset2), each listing 15 promoter windows around TSS:\n",
    "- Columns: chromosome, start, end, id_base, expr_value, expr_rank, overlaps\n",
    "- Our goal is to add an `open_flag` (1 or 0) indicating whether that 2 kb window overlaps any skeletal‐muscle ATAC‐seq peak (ENCFF150TGS.bed).\n",
    "- This tissue‐specific accessibility flag will let us down‐weight or filter variants in closed promoters.\n",
    "\n",
    "ATAC-seq measures genome-wide chromatin accessibility, and peaks are areas where the chromatin is accessible"
   ],
   "id": "e22ae5a5771ef24c"
  },
  {
   "metadata": {
    "ExecuteTime": {
     "end_time": "2025-06-09T12:03:38.116283Z",
     "start_time": "2025-06-09T12:03:38.111032Z"
    }
   },
   "cell_type": "code",
   "source": [
    "import os\n",
    "import pandas as pd\n",
    "from pybedtools import BedTool\n",
    "import numpy as np\n",
    "from pyfaidx import Fasta\n",
    "import csv\n",
    "import pysam\n",
    "import glob\n",
    "import matplotlib.pyplot as plt\n",
    "import random"
   ],
   "id": "e306f0b0b52d971",
   "outputs": [],
   "execution_count": 96
  },
  {
   "metadata": {
    "ExecuteTime": {
     "end_time": "2025-06-09T11:53:40.118751Z",
     "start_time": "2025-06-09T11:53:40.112461Z"
    }
   },
   "cell_type": "code",
   "source": [
    "BED1 = \"../data/intermediate/dataset1/chr20_test15_tss±2kb.bed\"\n",
    "BED2 = \"../data/intermediate/dataset2/chr20_test15_tss±2kb.bed\"\n",
    "\n",
    "# skeletal-muscle ATAC‐seq peaks BED\n",
    "ATAC_BED = \"../data/initial/ENCFF150TGS.bed\"\n",
    "\n",
    "# Output paths (append \"_with_open.bed\")\n",
    "OUT1 = BED1.replace(\".bed\", \"_with_open.bed\")\n",
    "OUT2 = BED2.replace(\".bed\", \"_with_open.bed\")"
   ],
   "id": "3f270804ba655e60",
   "outputs": [],
   "execution_count": 84
  },
  {
   "metadata": {
    "ExecuteTime": {
     "end_time": "2025-06-09T11:38:49.388745Z",
     "start_time": "2025-06-09T11:38:49.381548Z"
    }
   },
   "cell_type": "code",
   "source": [
    "def load_promoter_bed(path):\n",
    "    \"\"\"\n",
    "    Read our 8-column promoter BED.\n",
    "\n",
    "    - `start`, `end`, `tss_pos`      → int\n",
    "    - `expr_value`, `expr_rank`      → float\n",
    "    - `chromosome`, `id_base`, `overlaps` → str\n",
    "    \"\"\"\n",
    "    cols = [\n",
    "        \"chromosome\", \"start\", \"end\", \"id_base\",\n",
    "        \"expr_value\", \"expr_rank\", \"overlaps\", \"tss_pos\"\n",
    "    ]\n",
    "\n",
    "    df = pd.read_csv(\n",
    "        path,\n",
    "        sep=\"\\t\",\n",
    "        names=cols,          # tell pandas the 8 expected columns\n",
    "        skiprows=1,          # skip the '#chromosome …' header line\n",
    "        dtype={\n",
    "            \"chromosome\": str,\n",
    "            \"id_base\":    str,\n",
    "            \"overlaps\":   str\n",
    "        },\n",
    "        engine=\"python\"\n",
    "    )\n",
    "\n",
    "    # numeric casts\n",
    "    df[\"start\"]      = df[\"start\"].astype(int)\n",
    "    df[\"end\"]        = df[\"end\"].astype(int)\n",
    "    df[\"tss_pos\"]    = df[\"tss_pos\"].astype(int)\n",
    "    df[\"expr_value\"] = df[\"expr_value\"].astype(float)\n",
    "    df[\"expr_rank\"]  = df[\"expr_rank\"].astype(float)\n",
    "\n",
    "    return df\n",
    "\n",
    "df1 = load_promoter_bed(BED1)\n",
    "print(\"Dataset1 promoter windows (first 5 rows):\")\n",
    "print(df1.head())"
   ],
   "id": "e5419209918ea8b1",
   "outputs": [
    {
     "name": "stdout",
     "output_type": "stream",
     "text": [
      "Dataset1 promoter windows (first 5 rows):\n",
      "  chromosome     start       end          id_base  expr_value  expr_rank  \\\n",
      "0      chr20  24947269  24951269  ENSG00000077984       1.056      0.789   \n",
      "1      chr20  37344140  37348140  ENSG00000197122       1.205      0.795   \n",
      "2      chr20   9067087   9071087  ENSG00000101333       1.231      0.796   \n",
      "3      chr20  52189779  52193779  ENSG00000020256       1.365      0.802   \n",
      "4      chr20  25622014  25626014  ENSG00000170191       1.497      0.806   \n",
      "\n",
      "  overlaps   tss_pos  \n",
      "0        .  24949269  \n",
      "1        .  37346140  \n",
      "2        .   9069087  \n",
      "3        .  52191779  \n",
      "4        .  25624014  \n"
     ]
    }
   ],
   "execution_count": 61
  },
  {
   "metadata": {},
   "cell_type": "markdown",
   "source": "## 2. Annotate “open” promoters via intersection",
   "id": "5d8817416fbeb1f4"
  },
  {
   "metadata": {
    "ExecuteTime": {
     "end_time": "2025-06-09T11:39:09.107999Z",
     "start_time": "2025-06-09T11:39:09.104927Z"
    }
   },
   "cell_type": "code",
   "source": [
    "def annotate_open(promoter_df, atac_bed_obj):\n",
    "    \"\"\"\n",
    "    Given a promoter DataFrame (with columns chromosome,start,end,id_base, …),\n",
    "    create a BedTool from its first four columns, intersect with ATAC peaks,\n",
    "    then build an 'open_flag' column = 1 if that promoter overlaps any peak, else 0.\n",
    "    \"\"\"\n",
    "    # creating a bedtool from just the first four columns: (chrom, start, end, id_base)\n",
    "    bed_in = promoter_df[[\"chromosome\",\"start\",\"end\",\"id_base\"]]\n",
    "    promoter_bed = BedTool.from_dataframe(bed_in)\n",
    "\n",
    "    # Intersect with ATAC_BED; -u ensures we get each promoter only once if it overlaps\n",
    "    promoter_open = promoter_bed.intersect(atac_bed_obj, u=True)\n",
    "\n",
    "    # Build a set of id_base for promoters that overlapped at least one ATAC peak\n",
    "    open_ids = {f.fields[3] for f in promoter_open}\n",
    "\n",
    "    # Assign open_flag = 1 if id_base in open_ids, else 0\n",
    "    promoter_df[\"open_flag\"] = promoter_df[\"id_base\"].apply(lambda g: 1 if g in open_ids else 0)\n",
    "    return promoter_df"
   ],
   "id": "2796403c836cea5d",
   "outputs": [],
   "execution_count": 62
  },
  {
   "metadata": {
    "ExecuteTime": {
     "end_time": "2025-06-09T11:39:10.594812Z",
     "start_time": "2025-06-09T11:39:10.389229Z"
    }
   },
   "cell_type": "code",
   "source": [
    "def main():\n",
    "    atac = BedTool(ATAC_BED)\n",
    "\n",
    "    print(\"Annotating dataset1 …\")\n",
    "    df1 = load_promoter_bed(BED1)\n",
    "    df1_annot = annotate_open(df1, atac)\n",
    "    # Write out eight columns: (chrom, start, end, id_base, expr_val, expr_rank, overlaps, open_flag)\n",
    "    df1_annot.to_csv(\n",
    "        OUT1,\n",
    "        sep=\"\\t\",\n",
    "        index=False,\n",
    "        header=False,\n",
    "        columns=[\n",
    "            \"chromosome\",\"start\",\"end\",\"id_base\",\n",
    "            \"expr_value\",\"expr_rank\",\"overlaps\",\"open_flag\"\n",
    "        ]\n",
    "    )\n",
    "    print(\"Wrote:\", OUT1)\n",
    "\n",
    "    print(\"Annotating dataset2 …\")\n",
    "    df2 = load_promoter_bed(BED2)\n",
    "    df2_annot = annotate_open(df2, atac)\n",
    "    df2_annot.to_csv(\n",
    "        OUT2,\n",
    "        sep=\"\\t\",\n",
    "        index=False,\n",
    "        header=False,\n",
    "        columns=[\n",
    "            \"chromosome\",\"start\",\"end\",\"id_base\",\n",
    "            \"expr_value\",\"expr_rank\",\"overlaps\",\"open_flag\"\n",
    "        ]\n",
    "    )\n",
    "    print(\"Wrote:\", OUT2)\n",
    "\n",
    "\n",
    "if __name__ == \"__main__\":\n",
    "    main()"
   ],
   "id": "14153dc3a75f5c19",
   "outputs": [
    {
     "name": "stdout",
     "output_type": "stream",
     "text": [
      "Annotating dataset1 …\n",
      "Wrote: ../data/intermediate/dataset1/chr20_test15_tss±2kb_with_open.bed\n",
      "Annotating dataset2 …\n",
      "Wrote: ../data/intermediate/dataset2/chr20_test15_tss±2kb_with_open.bed\n"
     ]
    }
   ],
   "execution_count": 63
  },
  {
   "metadata": {},
   "cell_type": "markdown",
   "source": "## 2. Grow to 524 kb & One‐Hot Encode",
   "id": "80a32700c030d1c4"
  },
  {
   "metadata": {},
   "cell_type": "markdown",
   "source": [
    "Now that we have our `_with_open.bed` files (with `open_flag`), we next:\n",
    "\n",
    "1. Read each 2 kb window.\n",
    "2. Compute its true TSS = `start + 2000`.\n",
    "3. Expand to ±262 144 bp (total 524 288 bp).\n",
    "4. Fetch that sequence from hg38 FASTA, padding with “N” if we hit chr ends.\n",
    "5. One‐hot encode A/C/G/T → 4 × 524 288 float32 array.\n",
    "6. Save each array as `GENE.npy`, and collect its metadata (path, expr_value, expr_rank, overlaps, open_flag).\n",
    "7. Dump a `flashzoi_meta.tsv` for each dataset to drive downstream predictions."
   ],
   "id": "402caa19ccab2451"
  },
  {
   "metadata": {
    "ExecuteTime": {
     "end_time": "2025-06-09T11:53:46.605772Z",
     "start_time": "2025-06-09T11:53:46.603351Z"
    }
   },
   "cell_type": "code",
   "source": [
    "IN_BED1 = \"../data/intermediate/dataset1/chr20_test15_tss±2kb_with_open.bed\"\n",
    "IN_BED2 = \"../data/intermediate/dataset2/chr20_test15_tss±2kb_with_open.bed\"\n",
    "\n",
    "OUT1_BED = \"../data/intermediate/dataset1/chr20_test15_tss±2kb_with_open.bed\"\n",
    "OUT2_BED = \"../data/intermediate/dataset2/chr20_test15_tss±2kb_with_open.bed\"\n",
    "REF_FASTA = \"../data/initial/GRCh38.primary_assembly.genome.fa\""
   ],
   "id": "7960601eb8cbf734",
   "outputs": [],
   "execution_count": 85
  },
  {
   "metadata": {
    "ExecuteTime": {
     "end_time": "2025-06-09T11:46:28.622428Z",
     "start_time": "2025-06-09T11:46:28.619442Z"
    }
   },
   "cell_type": "code",
   "source": [
    "# Flashzoi and Borzoi wants 524 kb windows. That is ±262 kb around the TSS.\n",
    "FULL_WINDOW = 524_288  # exactly 2^19 = 524,288 bp\n",
    "HALF_WIN    = FULL_WINDOW // 2  # 262,144\n",
    "\n",
    "def one_hot_encode(seq):\n",
    "    \"\"\"\n",
    "    Turn an uppercase DNA string into a (4, L) float32 array:\n",
    "      A → [1,0,0,0]\n",
    "      C → [0,1,0,0]\n",
    "      G → [0,0,1,0]\n",
    "      T → [0,0,0,1]\n",
    "      anything else (N) → [0,0,0,0]\n",
    "    \"\"\"\n",
    "    # create an array shape (4, len(seq))\n",
    "    L = len(seq)\n",
    "    arr = np.zeros((4, L), dtype=np.float32)\n",
    "    mapping = {'A':0, 'C':1, 'G':2, 'T':3}     # mapping bases to row indices\n",
    "    for i, base in enumerate(seq):\n",
    "        if base in mapping:\n",
    "            arr[mapping[base], i] = 1.0\n",
    "    return arr"
   ],
   "id": "938a50f73077663f",
   "outputs": [],
   "execution_count": 66
  },
  {
   "metadata": {
    "ExecuteTime": {
     "end_time": "2025-06-09T11:46:30.752428Z",
     "start_time": "2025-06-09T11:46:30.748697Z"
    }
   },
   "cell_type": "code",
   "source": [
    "def extract_524kb_onehot(chrom, tss, fasta_obj):\n",
    "    \"\"\"\n",
    "    given chr 20 and TSS coordinate,\n",
    "    return a (4, 524288) numpy one-hot array.\n",
    "    If we run off the chromosome edge, we pad with zeros at that side. # TODO: is that okay now\n",
    "    \"\"\"\n",
    "    # coordinates in pyfaidx are 1-based inclusive, so we convert.\n",
    "    # pyfaidx.Fasta[...] expects something like fasta[\"chr20\"][start-1:end].\n",
    "    tss0 = tss - 1  # convert to python 0-based, because our TSS is 1-based\n",
    "\n",
    "    left  = tss0 - HALF_WIN\n",
    "    right = tss0 + HALF_WIN - 1  # inclusive index so that total length = 524,288\n",
    "\n",
    "    # If left < 0 or right ≥ chrom length, we’ll pad.\n",
    "    seq_chars = []\n",
    "    if left < 0:\n",
    "        # pad on left with Ns\n",
    "        seq_chars.append(\"N\" * (-left))\n",
    "        left = 0\n",
    "    # now retrieve from FASTA\n",
    "    chrom_seq = fasta_obj[chrom]  # FASTA record object\n",
    "    chrom_len = len(chrom_seq)\n",
    "    if right >= chrom_len:\n",
    "        # fetch from left..end, then pad on right\n",
    "        seq_chars.append(str(chrom_seq[left:]))  # pyfaidx returns Seq object, cast to str\n",
    "        pad_len = right - (chrom_len - 1)\n",
    "        seq_chars.append(\"N\" * pad_len)\n",
    "    else:\n",
    "        # normal case: just slice left..right\n",
    "        seq_chars.append(str(chrom_seq[left : right + 1]))\n",
    "\n",
    "    final_seq = \"\".join(seq_chars).upper()\n",
    "    if len(final_seq) != FULL_WINDOW:\n",
    "        raise ValueError(\n",
    "            f\"One-hot sequence length mismatch: got {len(final_seq)}, expected {FULL_WINDOW}\"\n",
    "        )\n",
    "\n",
    "    return one_hot_encode(final_seq)"
   ],
   "id": "36d9521c60f64aa",
   "outputs": [],
   "execution_count": 67
  },
  {
   "metadata": {
    "ExecuteTime": {
     "end_time": "2025-06-09T11:46:37.469285Z",
     "start_time": "2025-06-09T11:46:36.555638Z"
    }
   },
   "cell_type": "code",
   "source": [
    "#!/usr/bin/env python3\n",
    "\"\"\"\n",
    "Convert every promoter in a *_with_open.bed into a 524 kb one-hot array\n",
    "ready for Borzoi / flashZoi, and write a flashzoi_meta.tsv alongside.\n",
    "\"\"\"\n",
    "\n",
    "# ──────────────────────────────────────────────────────────────────────────────\n",
    "def extract_524kb_onehot(chrom: str, tss: int, fasta: Fasta) -> np.ndarray:\n",
    "    \"\"\"Return a (4 × 524 288) one-hot centred on `tss` (0-based, 1 = A).\"\"\"\n",
    "    half   = 262_144\n",
    "    left   = max(0, tss - half)\n",
    "    right  = tss + half                       # fasta slicing is 0-based, end-exclusive\n",
    "    seq    = fasta[chrom][left:right].seq.upper()\n",
    "\n",
    "    # Pad with Ns if we hit a chromosome edge\n",
    "    if len(seq) < 2 * half:\n",
    "        seq = seq.ljust(2 * half, \"N\")\n",
    "\n",
    "    mapping = {\"A\":0, \"C\":1, \"G\":2, \"T\":3}\n",
    "    onehot  = np.zeros((4, 2 * half), dtype=np.float32)\n",
    "    for i, base in enumerate(seq):\n",
    "        if base in mapping:\n",
    "            onehot[mapping[base], i] = 1.0\n",
    "    return onehot\n",
    "\n",
    "def prepare_for_flashzoi(in_bed: str, out_dir_prefix: str):\n",
    "    \"\"\"\n",
    "    Expect *_with_open.bed with **8** columns:\n",
    "    chrom  start  end  id_base  expr_value  expr_rank  overlaps  tss_pos\n",
    "    \"\"\"\n",
    "    cols = [\"chromosome\",\"start\",\"end\",\"id_base\",\n",
    "            \"expr_value\",\"expr_rank\",\"overlaps\",\"tss_pos\"]\n",
    "    df    = pd.read_csv(in_bed, sep=\"\\t\", comment=\"#\", names=cols,\n",
    "                        dtype={\"chromosome\":str,\"id_base\":str,\"overlaps\":str})\n",
    "    fasta = Fasta(REF_FASTA)\n",
    "\n",
    "    meta_records = []\n",
    "    for idx, r in df.iterrows():\n",
    "        gene  = r.id_base\n",
    "        chrom = r.chromosome\n",
    "        tss   = int(r.tss_pos)\n",
    "\n",
    "        onehot = extract_524kb_onehot(chrom, tss, fasta)\n",
    "\n",
    "        out_npy = os.path.join(out_dir_prefix, f\"{gene}.npy\")\n",
    "        np.save(out_npy, onehot)\n",
    "\n",
    "        meta_records.append({\n",
    "            \"gene\":        gene,\n",
    "            \"onehot_path\": out_npy,\n",
    "            \"expr_value\":  float(r.expr_value),\n",
    "            \"expr_rank\":   float(r.expr_rank),\n",
    "            \"overlaps2kb\": r.overlaps\n",
    "        })\n",
    "        print(f\"[{idx+1}/{len(df)}]  Saved {gene}.npy\")\n",
    "\n",
    "    pd.DataFrame(meta_records).to_csv(\n",
    "        os.path.join(out_dir_prefix, \"flashzoi_meta.tsv\"),\n",
    "        sep=\"\\t\", index=False\n",
    "    )\n",
    "    print(\"✓ Done prepping\", len(meta_records), \"promoters\")\n",
    "\n",
    "if __name__ == \"__main__\":\n",
    "    IN_BED1 = \"../data/intermediate/dataset1/chr20_test15_tss±2kb_with_open.bed\"\n",
    "    IN_BED2 = \"../data/intermediate/dataset2/chr20_test15_tss±2kb_with_open.bed\"\n",
    "\n",
    "    ds1_dir = os.path.join(os.path.dirname(IN_BED1), \"flashzoi_inputs\")\n",
    "    ds2_dir = os.path.join(os.path.dirname(IN_BED2), \"flashzoi_inputs\")\n",
    "    os.makedirs(ds1_dir, exist_ok=True)\n",
    "    os.makedirs(ds2_dir, exist_ok=True)\n",
    "\n",
    "    print(\"Preparing dataset 1 …\")\n",
    "    prepare_for_flashzoi(IN_BED1, ds1_dir)\n",
    "\n",
    "    print(\"Preparing dataset 2 …\")\n",
    "    prepare_for_flashzoi(IN_BED2, ds2_dir)"
   ],
   "id": "185d9b2e506bdb00",
   "outputs": [
    {
     "name": "stdout",
     "output_type": "stream",
     "text": [
      "Preparing dataset 1 …\n",
      "[1/15]  Saved ENSG00000077984.npy\n",
      "[2/15]  Saved ENSG00000197122.npy\n",
      "[3/15]  Saved ENSG00000101333.npy\n",
      "[4/15]  Saved ENSG00000020256.npy\n",
      "[5/15]  Saved ENSG00000170191.npy\n",
      "[6/15]  Saved ENSG00000149639.npy\n",
      "[7/15]  Saved ENSG00000088827.npy\n",
      "[8/15]  Saved ENSG00000124217.npy\n",
      "[9/15]  Saved ENSG00000089123.npy\n",
      "[10/15]  Saved ENSG00000171940.npy\n",
      "[11/15]  Saved ENSG00000089057.npy\n",
      "[12/15]  Saved ENSG00000101052.npy\n",
      "[13/15]  Saved ENSG00000131061.npy\n",
      "[14/15]  Saved ENSG00000158445.npy\n",
      "[15/15]  Saved ENSG00000196839.npy\n",
      "✓ Done prepping 15 promoters\n",
      "Preparing dataset 2 …\n",
      "[1/15]  Saved ENSG00000171984.npy\n",
      "[2/15]  Saved ENSG00000101000.npy\n",
      "[3/15]  Saved ENSG00000078699.npy\n",
      "[4/15]  Saved ENSG00000125821.npy\n",
      "[5/15]  Saved ENSG00000130699.npy\n",
      "[6/15]  Saved ENSG00000080189.npy\n",
      "[7/15]  Saved ENSG00000126005.npy\n",
      "[8/15]  Saved ENSG00000130703.npy\n",
      "[9/15]  Saved ENSG00000243509.npy\n",
      "[10/15]  Saved ENSG00000088298.npy\n",
      "[11/15]  Saved ENSG00000042062.npy\n",
      "[12/15]  Saved ENSG00000125971.npy\n",
      "[13/15]  Saved ENSG00000101216.npy\n",
      "[14/15]  Saved ENSG00000129988.npy\n",
      "[15/15]  Saved ENSG00000240849.npy\n",
      "✓ Done prepping 15 promoters\n"
     ]
    }
   ],
   "execution_count": 68
  },
  {
   "metadata": {},
   "cell_type": "markdown",
   "source": "## 3. Annotate variants",
   "id": "d60977cbfee6da0c"
  },
  {
   "metadata": {
    "ExecuteTime": {
     "end_time": "2025-06-09T12:03:52.691512Z",
     "start_time": "2025-06-09T12:03:52.688477Z"
    }
   },
   "cell_type": "code",
   "source": [
    "META_TSV      = \"../data/intermediate/dataset1/chr20_test15_tss±2kb_with_open/flashzoi_inputs/flashzoi_meta.tsv\"\n",
    "MANE_SUMMARY  = \"../data/initial/MANE.GRCh38.v1.4.summary.txt\"\n",
    "GNOMAD_VCF    = \"../data/initial/gnomad.genomes.v4.1.sites.chr20.vcf.bgz\"\n",
    "OUT_BASE      = \"../data/intermediate/dataset1/flashzoi_inputs/variants\"\n",
    "# Fixed half‐window for a 524 kb total (262 144 = 524 288/2)\n",
    "HALF_WIN = 262_144\n",
    "CHROM    = \"chr20\"\n",
    "EDGE_BUFFER   = 100_000    # skip genes whose TSS is within 100 kb of a chromosome end\n",
    "MIN_AF        = 0.001      # drop variants with AF < 0.001\n",
    "MIN_AF       = 1e-4                  # gnomAD allele-freq threshold\n",
    "MAX_SNPS     = 20_000                # cap rows per gene (after AF filter)\n",
    "RNG          = random.Random(2025)   # reproducible subsampling"
   ],
   "id": "889ca42f8e1e04e8",
   "outputs": [],
   "execution_count": 97
  },
  {
   "metadata": {},
   "cell_type": "markdown",
   "source": [
    "- META_TSV: this is the per-gene meta file generated when we one-hot-encoded ±2 kb windows (contains gene, onehot_path, expr_value, expr_rank, overlaps2kb, and open_flag column).\n",
    "- MANE_SUMMARY: to re-derive each gene’s canonical TSS (for computing ±262 kb genomic window)\n",
    "- GNOMAD_VCF: bgzipped, indexed VCF of chr20 population variants, to get allele frequencies\n",
    "- OUT_BASE: we’ll drop one subdirectory per gene here, each containing its ENSG…_variants.tsv.\n"
   ],
   "id": "ddc0941add449552"
  },
  {
   "metadata": {},
   "cell_type": "markdown",
   "source": "## 1. build a map gene_id → TSS for chr20 only",
   "id": "e5e1f31611af752e"
  },
  {
   "metadata": {
    "ExecuteTime": {
     "end_time": "2025-06-09T12:04:00.440929Z",
     "start_time": "2025-06-09T12:04:00.436463Z"
    }
   },
   "cell_type": "code",
   "source": [
    "def load_mane_tss(mane_path):\n",
    "    \"\"\"\n",
    "    Reads the MANE summary file, drops duplicate Ensembl_Gene entries,\n",
    "    strips off \".N\" from Ensembl IDs, normalizes NC_000020.## → chr20,\n",
    "    and returns a dict { gene_base → TSS } for only chr20.\n",
    "    \"\"\"\n",
    "    df = pd.read_csv(mane_path, sep=\"\\t\", dtype=str).drop_duplicates(subset=\"Ensembl_Gene\")\n",
    "    # Strip off version suffix\n",
    "    df[\"gene_base\"] = df[\"Ensembl_Gene\"].str.replace(r\"\\.\\d+$\", \"\", regex=True)\n",
    "\n",
    "    # Convert \"NC_000020.11\" → \"chr20\"\n",
    "    df[\"chromosome\"] = df[\"GRCh38_chr\"].str.replace(\n",
    "        r\"^NC_0+(\\d+)\\.\\d+$\", r\"chr\\1\", regex=True\n",
    "    )\n",
    "\n",
    "    # Compute TSS: if '+' strand → chr_start, else ( '-' strand ) → chr_end\n",
    "    def get_tss(row):\n",
    "        return int(row[\"chr_start\"]) if row[\"chr_strand\"] == \"+\" else int(row[\"chr_end\"])\n",
    "\n",
    "    df[\"TSS\"] = df.apply(get_tss, axis=1)\n",
    "\n",
    "    # keeping only chr20\n",
    "    df20 = df[df[\"chromosome\"] == CHROM].copy()\n",
    "    return dict(zip(df20[\"gene_base\"], df20[\"TSS\"]))"
   ],
   "id": "cc512344cbcd55d",
   "outputs": [],
   "execution_count": 98
  },
  {
   "metadata": {},
   "cell_type": "markdown",
   "source": "## 2. Write the header of a per‐gene variants TSV",
   "id": "cb7c4fe54a8911e6"
  },
  {
   "metadata": {
    "ExecuteTime": {
     "end_time": "2025-06-09T12:06:18.801373Z",
     "start_time": "2025-06-09T12:06:18.795710Z"
    }
   },
   "cell_type": "code",
   "source": [
    "def write_variants_header(outfile):\n",
    "    \"\"\"\n",
    "    Creates a TSV with columns:\n",
    "       CHROM, POS, POS0, REF, ALT, AF\n",
    "    \"\"\"\n",
    "    with open(outfile, \"w\", newline=\"\") as fo:\n",
    "        writer = csv.writer(fo, delimiter=\"\\t\")\n",
    "        writer.writerow([\n",
    "            \"CHROM\", \"POS\", \"POS0\", \"REF\", \"ALT\", \"AF\"\n",
    "        ])"
   ],
   "id": "937c90b0d9d16aef",
   "outputs": [],
   "execution_count": 102
  },
  {
   "metadata": {},
   "cell_type": "markdown",
   "source": "## 3. Annotate each gene’s ±262 kb window",
   "id": "f97e8135a4631604"
  },
  {
   "metadata": {
    "ExecuteTime": {
     "end_time": "2025-06-09T12:06:58.123465Z",
     "start_time": "2025-06-09T12:06:20.700636Z"
    }
   },
   "cell_type": "code",
   "source": [
    "\n",
    "def annotate_variants(meta_tsv, mane_summary, vcf_path, out_base, ref_fasta):\n",
    "    \"\"\"Write one *_variants.tsv per gene (±262 kb around TSS).\"\"\"\n",
    "    meta_df  = pd.read_csv(meta_tsv, sep=\"\\t\")\n",
    "    tss_dict = load_mane_tss(mane_summary)\n",
    "\n",
    "    print(f\"Loaded {len(meta_df)} genes\")\n",
    "    print(f\"Found {len(tss_dict)} chr20 TSS entries\")\n",
    "\n",
    "    vcf = pysam.VariantFile(vcf_path)\n",
    "\n",
    "    contigs = set(vcf.header.contigs)\n",
    "    use_contig = \"chr20\" if \"chr20\" in contigs else \"20\"\n",
    "    print(\"Using VCF contig name:\", use_contig)\n",
    "\n",
    "    with Fasta(ref_fasta) as fasta:\n",
    "        chr_len = len(fasta[use_contig])\n",
    "\n",
    "        for idx, row in meta_df.iterrows():\n",
    "            gene = row[\"gene\"]\n",
    "            if gene not in tss_dict:\n",
    "                continue\n",
    "\n",
    "            tss = tss_dict[gene]\n",
    "            if tss < EDGE_BUFFER or (chr_len - tss) < EDGE_BUFFER:\n",
    "                continue\n",
    "\n",
    "            left, right = max(1, tss - HALF_WIN), tss + HALF_WIN - 1\n",
    "            print(f\"[{idx+1}] {gene}: {left:,}-{right:,}\")\n",
    "\n",
    "            rows = []\n",
    "            for rec in vcf.fetch(use_contig, left - 1, right):\n",
    "                af = rec.info.get(\"AF\")\n",
    "                if af is None:           # gnomAD genotype missing\n",
    "                    continue\n",
    "                af_val = af[0] if isinstance(af, (list, tuple)) else af\n",
    "                if af_val < MIN_AF:\n",
    "                    continue\n",
    "\n",
    "                pos0 = rec.pos - left\n",
    "                af_str = f\"{af_val:.6f}\"\n",
    "                for alt in rec.alts:\n",
    "                    rows.append([rec.chrom, rec.pos, pos0, rec.ref, alt, af_str])\n",
    "\n",
    "            # cap to MAX_SNPS -----------------------------------------------------------\n",
    "            if len(rows) > MAX_SNPS:\n",
    "                rows = RNG.sample(rows, MAX_SNPS)\n",
    "                print(f\"    capped to {MAX_SNPS:,} variants\")\n",
    "\n",
    "            # Write once (header + rows) ------------------------------------------------\n",
    "            gene_dir = os.path.join(out_base, gene)\n",
    "            os.makedirs(gene_dir, exist_ok=True)\n",
    "            var_tsv = os.path.join(gene_dir, f\"{gene}_variants.tsv\")\n",
    "\n",
    "            with open(var_tsv, \"w\", newline=\"\") as fo:\n",
    "                w = csv.writer(fo, delimiter=\"\\t\")\n",
    "                w.writerow([\"chrom\",\"pos\",\"pos0\",\"ref\",\"alt\",\"AF\"])   # header\n",
    "                w.writerows(rows)\n",
    "\n",
    "            print(f\"    → wrote {len(rows):,} rows → {var_tsv}\")\n",
    "\n",
    "    vcf.close()\n",
    "    print(\"Done annotating every gene.\")\n",
    "\n",
    "if __name__ == \"__main__\":\n",
    "    os.makedirs(OUT_BASE, exist_ok=True)\n",
    "    annotate_variants(META_TSV, MANE_SUMMARY, GNOMAD_VCF, OUT_BASE, REF_FASTA)"
   ],
   "id": "3511d53d2282a9d5",
   "outputs": [
    {
     "name": "stdout",
     "output_type": "stream",
     "text": [
      "Loaded 15 genes\n",
      "Found 524 chr20 TSS entries\n",
      "Using VCF contig name: chr20\n",
      "[1] ENSG00000077984: 24,687,125-25,211,412\n",
      "    → wrote 17,004 rows → ../data/intermediate/dataset1/flashzoi_inputs/variants/ENSG00000077984/ENSG00000077984_variants.tsv\n",
      "[2] ENSG00000197122: 37,083,996-37,608,283\n",
      "    → wrote 16,686 rows → ../data/intermediate/dataset1/flashzoi_inputs/variants/ENSG00000197122/ENSG00000197122_variants.tsv\n",
      "[3] ENSG00000101333: 8,806,943-9,331,230\n",
      "    → wrote 13,745 rows → ../data/intermediate/dataset1/flashzoi_inputs/variants/ENSG00000101333/ENSG00000101333_variants.tsv\n",
      "[4] ENSG00000020256: 51,929,635-52,453,922\n",
      "    → wrote 17,355 rows → ../data/intermediate/dataset1/flashzoi_inputs/variants/ENSG00000020256/ENSG00000020256_variants.tsv\n",
      "[5] ENSG00000170191: 25,361,870-25,886,157\n",
      "    → wrote 16,928 rows → ../data/intermediate/dataset1/flashzoi_inputs/variants/ENSG00000170191/ENSG00000170191_variants.tsv\n",
      "[6] ENSG00000149639: 36,601,394-37,125,681\n",
      "    → wrote 17,882 rows → ../data/intermediate/dataset1/flashzoi_inputs/variants/ENSG00000149639/ENSG00000149639_variants.tsv\n",
      "[7] ENSG00000088827: 3,450,456-3,974,743\n",
      "    → wrote 17,121 rows → ../data/intermediate/dataset1/flashzoi_inputs/variants/ENSG00000088827/ENSG00000088827_variants.tsv\n",
      "[8] ENSG00000124217: 50,696,674-51,220,961\n",
      "    → wrote 17,102 rows → ../data/intermediate/dataset1/flashzoi_inputs/variants/ENSG00000124217/ENSG00000124217_variants.tsv\n",
      "[9] ENSG00000089123: 13,376,788-13,901,075\n",
      "    → wrote 14,434 rows → ../data/intermediate/dataset1/flashzoi_inputs/variants/ENSG00000089123/ENSG00000089123_variants.tsv\n",
      "[10] ENSG00000171940: 53,331,695-53,855,982\n",
      "    capped to 20,000 variants\n",
      "    → wrote 20,000 rows → ../data/intermediate/dataset1/flashzoi_inputs/variants/ENSG00000171940/ENSG00000171940_variants.tsv\n",
      "[11] ENSG00000089057: 4,739,366-5,263,653\n",
      "    → wrote 18,400 rows → ../data/intermediate/dataset1/flashzoi_inputs/variants/ENSG00000089057/ENSG00000089057_variants.tsv\n",
      "[12] ENSG00000101052: 43,328,793-43,853,080\n",
      "    → wrote 17,569 rows → ../data/intermediate/dataset1/flashzoi_inputs/variants/ENSG00000101052/ENSG00000101052_variants.tsv\n",
      "[13] ENSG00000131061: 33,469,852-33,994,139\n",
      "    → wrote 16,503 rows → ../data/intermediate/dataset1/flashzoi_inputs/variants/ENSG00000131061/ENSG00000131061_variants.tsv\n",
      "[14] ENSG00000158445: 49,220,524-49,744,811\n",
      "    → wrote 16,492 rows → ../data/intermediate/dataset1/flashzoi_inputs/variants/ENSG00000158445/ENSG00000158445_variants.tsv\n",
      "[15] ENSG00000196839: 44,389,555-44,913,842\n",
      "    → wrote 14,855 rows → ../data/intermediate/dataset1/flashzoi_inputs/variants/ENSG00000196839/ENSG00000196839_variants.tsv\n",
      "Done annotating every gene.\n"
     ]
    }
   ],
   "execution_count": 103
  },
  {
   "metadata": {},
   "cell_type": "markdown",
   "source": "## 4. Checking final data",
   "id": "6b4b82be49fd3f2b"
  },
  {
   "metadata": {
    "ExecuteTime": {
     "end_time": "2025-06-09T12:02:30.897065Z",
     "start_time": "2025-06-09T12:02:30.796239Z"
    }
   },
   "cell_type": "code",
   "source": [
    "import glob, pandas as pd\n",
    "counts = {}\n",
    "for tsv in glob.glob(\"../data/intermediate/dataset1/flashzoi_inputs/variants/*/*.tsv\"):\n",
    "    gene = tsv.split(\"/\")[-2]\n",
    "    df   = pd.read_csv(tsv, sep=\"\\t\")\n",
    "    counts[gene] = len(df)\n",
    "print(pd.Series(counts).describe())"
   ],
   "id": "a8954376cd9ad6af",
   "outputs": [
    {
     "name": "stdout",
     "output_type": "stream",
     "text": [
      "count       15.000000\n",
      "mean     16805.066667\n",
      "std       1559.121661\n",
      "min      13745.000000\n",
      "25%      16497.500000\n",
      "50%      17004.000000\n",
      "75%      17462.000000\n",
      "max      20000.000000\n",
      "dtype: float64\n"
     ]
    }
   ],
   "execution_count": 95
  },
  {
   "metadata": {},
   "cell_type": "markdown",
   "source": "### 2. Allele freq distribution",
   "id": "c975b8a45778d46b"
  },
  {
   "metadata": {
    "ExecuteTime": {
     "end_time": "2025-06-09T12:04:10.426870Z",
     "start_time": "2025-06-09T12:04:09.330297Z"
    }
   },
   "cell_type": "code",
   "source": [
    "paths = glob.glob(\"../data/output/dataset1/flashzoi_inputs/variants/*/*.tsv\")\n",
    "\n",
    "all_af = pd.concat([\n",
    "    pd.read_csv(tsv, sep=\"\\t\")[\"AF\"]\n",
    "        .astype(float)\n",
    "        .dropna()\n",
    "    for tsv in paths\n",
    "], ignore_index=True)\n",
    "\n",
    "af_min = all_af.min()\n",
    "af_max = all_af.max()\n",
    "\n",
    "plt.hist(all_af, bins=50, range=(af_min, af_max))\n",
    "plt.xlabel(\"Allele frequency\")\n",
    "plt.ylabel(\"Count\")\n",
    "plt.title(\"AF distribution across variants\")\n",
    "plt.show()\n",
    "\n",
    "plt.hist(all_af, bins=100, range=(0.001, 0.05))\n",
    "plt.xlabel(\"Allele frequency\")\n",
    "plt.ylabel(\"Count\")\n",
    "plt.title(\"AF distribution (zoomed in to 0.001–0.05)\")\n",
    "plt.show()\n",
    "\n",
    "plt.hist(all_af, bins=100, range=(0.001, 1.0))\n",
    "plt.yscale('log')\n",
    "plt.xlabel(\"Allele frequency\")\n",
    "plt.ylabel(\"Count (log scale)\")\n",
    "plt.title(\"AF distribution (log scale on y-axis)\")\n",
    "plt.show()"
   ],
   "id": "c5c2825bf62b592b",
   "outputs": [
    {
     "data": {
      "text/plain": [
       "<Figure size 640x480 with 1 Axes>"
      ],
      "image/png": "[encoded data removed]"
     },
     "metadata": {},
     "output_type": "display_data"
    },
    {
     "data": {
      "text/plain": [
       "<Figure size 640x480 with 1 Axes>"
      ],
      "image/png": "[encoded data removed]"
     },
     "metadata": {},
     "output_type": "display_data"
    },
    {
     "data": {
      "text/plain": [
       "<Figure size 640x480 with 1 Axes>"
      ],
      "image/png": "[encoded data removed]"
     },
     "metadata": {},
     "output_type": "display_data"
    }
   ],
   "execution_count": 99
  },
  {
   "metadata": {
    "ExecuteTime": {
     "end_time": "2025-06-09T12:04:11.098483Z",
     "start_time": "2025-06-09T12:04:11.081957Z"
    }
   },
   "cell_type": "code",
   "source": [
    "VAR_DIR   = \"../data/intermediate/dataset1/flashzoi_inputs/variants\"\n",
    "example = glob.glob(os.path.join(VAR_DIR, \"*\", \"*_variants.tsv\"))[0]\n",
    "print(\"Example file:\", example)\n",
    "pd.read_csv(example, sep=\"\\t\").head()"
   ],
   "id": "682033d0ab8ae6f6",
   "outputs": [
    {
     "name": "stdout",
     "output_type": "stream",
     "text": [
      "Example file: ../data/intermediate/dataset1/flashzoi_inputs/variants/ENSG00000131061/ENSG00000131061_variants.tsv\n"
     ]
    },
    {
     "data": {
      "text/plain": [
       "   chrom       pos  pos0 ref alt        AF\n",
       "0  chr20  33469871    19   C   T  0.000105\n",
       "1  chr20  33469936    84   C   A  0.000178\n",
       "2  chr20  33470089   237   C   T  0.000118\n",
       "3  chr20  33470224   372   A   G  0.000138\n",
       "4  chr20  33470422   570   G   A  0.000637"
      ],
      "text/html": [
       "<div>\n",
       "<style scoped>\n",
       "    .dataframe tbody tr th:only-of-type {\n",
       "        vertical-align: middle;\n",
       "    }\n",
       "\n",
       "    .dataframe tbody tr th {\n",
       "        vertical-align: top;\n",
       "    }\n",
       "\n",
       "    .dataframe thead th {\n",
       "        text-align: right;\n",
       "    }\n",
       "</style>\n",
       "<table border=\"1\" class=\"dataframe\">\n",
       "  <thead>\n",
       "    <tr style=\"text-align: right;\">\n",
       "      <th></th>\n",
       "      <th>chrom</th>\n",
       "      <th>pos</th>\n",
       "      <th>pos0</th>\n",
       "      <th>ref</th>\n",
       "      <th>alt</th>\n",
       "      <th>AF</th>\n",
       "    </tr>\n",
       "  </thead>\n",
       "  <tbody>\n",
       "    <tr>\n",
       "      <th>0</th>\n",
       "      <td>chr20</td>\n",
       "      <td>33469871</td>\n",
       "      <td>19</td>\n",
       "      <td>C</td>\n",
       "      <td>T</td>\n",
       "      <td>0.000105</td>\n",
       "    </tr>\n",
       "    <tr>\n",
       "      <th>1</th>\n",
       "      <td>chr20</td>\n",
       "      <td>33469936</td>\n",
       "      <td>84</td>\n",
       "      <td>C</td>\n",
       "      <td>A</td>\n",
       "      <td>0.000178</td>\n",
       "    </tr>\n",
       "    <tr>\n",
       "      <th>2</th>\n",
       "      <td>chr20</td>\n",
       "      <td>33470089</td>\n",
       "      <td>237</td>\n",
       "      <td>C</td>\n",
       "      <td>T</td>\n",
       "      <td>0.000118</td>\n",
       "    </tr>\n",
       "    <tr>\n",
       "      <th>3</th>\n",
       "      <td>chr20</td>\n",
       "      <td>33470224</td>\n",
       "      <td>372</td>\n",
       "      <td>A</td>\n",
       "      <td>G</td>\n",
       "      <td>0.000138</td>\n",
       "    </tr>\n",
       "    <tr>\n",
       "      <th>4</th>\n",
       "      <td>chr20</td>\n",
       "      <td>33470422</td>\n",
       "      <td>570</td>\n",
       "      <td>G</td>\n",
       "      <td>A</td>\n",
       "      <td>0.000637</td>\n",
       "    </tr>\n",
       "  </tbody>\n",
       "</table>\n",
       "</div>"
      ]
     },
     "execution_count": 100,
     "metadata": {},
     "output_type": "execute_result"
    }
   ],
   "execution_count": 100
  },
  {
   "metadata": {},
   "cell_type": "markdown",
   "source": "## 3. Sanity check for hot-encodes",
   "id": "5a23cba9770d90ee"
  },
  {
   "metadata": {
    "ExecuteTime": {
     "end_time": "2025-06-09T12:04:17.061494Z",
     "start_time": "2025-06-09T12:04:16.937943Z"
    }
   },
   "cell_type": "code",
   "source": [
    "ONEHOT_DIR = \"../data/intermediate/dataset1/chr20_test15_tss±2kb_with_open/flashzoi_inputs\"\n",
    "\n",
    "rows = []\n",
    "for fn in glob.glob(os.path.join(ONEHOT_DIR, \"*.npy\")):\n",
    "    gene = os.path.basename(fn).replace(\".npy\",\"\")\n",
    "    arr  = np.load(fn)\n",
    "    shape_ok   = (arr.shape == (4, 524288))\n",
    "    sum_per_ch = arr.sum(axis=1)\n",
    "    all_zero   = (sum_per_ch==0).all()\n",
    "    any_zero_ch = (sum_per_ch==0).any()\n",
    "    rows.append({\n",
    "        \"gene\":       gene,\n",
    "        \"shape\":      arr.shape,\n",
    "        \"shape_ok\":   shape_ok,\n",
    "        \"sum_A\":      int(sum_per_ch[0]),\n",
    "        \"sum_C\":      int(sum_per_ch[1]),\n",
    "        \"sum_G\":      int(sum_per_ch[2]),\n",
    "        \"sum_T\":      int(sum_per_ch[3]),\n",
    "        \"any_zero_ch\":any_zero_ch,\n",
    "        \"all_zero\":   all_zero\n",
    "    })\n",
    "\n",
    "df = pd.DataFrame(rows)\n",
    "print(\"Total arrays:\", len(df))\n",
    "print(\"Bad shapes:\", df[~df[\"shape_ok\"]].shape[0])\n",
    "print(\"Any channel all-zero:\", df[\"any_zero_ch\"].sum())\n",
    "print(\"Fully zero arrays:\", df[\"all_zero\"].sum())\n",
    "df.sample(5)"
   ],
   "id": "75b95a393edda740",
   "outputs": [
    {
     "name": "stdout",
     "output_type": "stream",
     "text": [
      "Total arrays: 30\n",
      "Bad shapes: 0\n",
      "Any channel all-zero: 0\n",
      "Fully zero arrays: 0\n"
     ]
    },
    {
     "data": {
      "text/plain": [
       "               gene        shape  shape_ok   sum_A   sum_C   sum_G   sum_T  \\\n",
       "9   ENSG00000171940  (4, 524288)      True  147658  116016  114190  146424   \n",
       "12  ENSG00000124217  (4, 524288)      True  136769  120487  121999  145033   \n",
       "25  ENSG00000131061  (4, 524288)      True  131830  122097  123939  146422   \n",
       "1   ENSG00000089123  (4, 524288)      True  167751  104857   99914  151766   \n",
       "27  ENSG00000196839  (4, 524288)      True  141265  122599  121894  138530   \n",
       "\n",
       "    any_zero_ch  all_zero  \n",
       "9         False     False  \n",
       "12        False     False  \n",
       "25        False     False  \n",
       "1         False     False  \n",
       "27        False     False  "
      ],
      "text/html": [
       "<div>\n",
       "<style scoped>\n",
       "    .dataframe tbody tr th:only-of-type {\n",
       "        vertical-align: middle;\n",
       "    }\n",
       "\n",
       "    .dataframe tbody tr th {\n",
       "        vertical-align: top;\n",
       "    }\n",
       "\n",
       "    .dataframe thead th {\n",
       "        text-align: right;\n",
       "    }\n",
       "</style>\n",
       "<table border=\"1\" class=\"dataframe\">\n",
       "  <thead>\n",
       "    <tr style=\"text-align: right;\">\n",
       "      <th></th>\n",
       "      <th>gene</th>\n",
       "      <th>shape</th>\n",
       "      <th>shape_ok</th>\n",
       "      <th>sum_A</th>\n",
       "      <th>sum_C</th>\n",
       "      <th>sum_G</th>\n",
       "      <th>sum_T</th>\n",
       "      <th>any_zero_ch</th>\n",
       "      <th>all_zero</th>\n",
       "    </tr>\n",
       "  </thead>\n",
       "  <tbody>\n",
       "    <tr>\n",
       "      <th>9</th>\n",
       "      <td>ENSG00000171940</td>\n",
       "      <td>(4, 524288)</td>\n",
       "      <td>True</td>\n",
       "      <td>147658</td>\n",
       "      <td>116016</td>\n",
       "      <td>114190</td>\n",
       "      <td>146424</td>\n",
       "      <td>False</td>\n",
       "      <td>False</td>\n",
       "    </tr>\n",
       "    <tr>\n",
       "      <th>12</th>\n",
       "      <td>ENSG00000124217</td>\n",
       "      <td>(4, 524288)</td>\n",
       "      <td>True</td>\n",
       "      <td>136769</td>\n",
       "      <td>120487</td>\n",
       "      <td>121999</td>\n",
       "      <td>145033</td>\n",
       "      <td>False</td>\n",
       "      <td>False</td>\n",
       "    </tr>\n",
       "    <tr>\n",
       "      <th>25</th>\n",
       "      <td>ENSG00000131061</td>\n",
       "      <td>(4, 524288)</td>\n",
       "      <td>True</td>\n",
       "      <td>131830</td>\n",
       "      <td>122097</td>\n",
       "      <td>123939</td>\n",
       "      <td>146422</td>\n",
       "      <td>False</td>\n",
       "      <td>False</td>\n",
       "    </tr>\n",
       "    <tr>\n",
       "      <th>1</th>\n",
       "      <td>ENSG00000089123</td>\n",
       "      <td>(4, 524288)</td>\n",
       "      <td>True</td>\n",
       "      <td>167751</td>\n",
       "      <td>104857</td>\n",
       "      <td>99914</td>\n",
       "      <td>151766</td>\n",
       "      <td>False</td>\n",
       "      <td>False</td>\n",
       "    </tr>\n",
       "    <tr>\n",
       "      <th>27</th>\n",
       "      <td>ENSG00000196839</td>\n",
       "      <td>(4, 524288)</td>\n",
       "      <td>True</td>\n",
       "      <td>141265</td>\n",
       "      <td>122599</td>\n",
       "      <td>121894</td>\n",
       "      <td>138530</td>\n",
       "      <td>False</td>\n",
       "      <td>False</td>\n",
       "    </tr>\n",
       "  </tbody>\n",
       "</table>\n",
       "</div>"
      ]
     },
     "execution_count": 101,
     "metadata": {},
     "output_type": "execute_result"
    }
   ],
   "execution_count": 101
  }
 ],
 "metadata": {
  "kernelspec": {
   "display_name": "Python 3",
   "language": "python",
   "name": "python3"
  },
  "language_info": {
   "codemirror_mode": {
    "name": "ipython",
    "version": 2
   },
   "file_extension": ".py",
   "mimetype": "text/x-python",
   "name": "python",
   "nbconvert_exporter": "python",
   "pygments_lexer": "ipython2",
   "version": "2.7.6"
  }
 },
 "nbformat": 4,
 "nbformat_minor": 5
}
