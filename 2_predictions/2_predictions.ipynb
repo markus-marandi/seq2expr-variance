{
 "cells": [
  {
   "metadata": {},
   "cell_type": "markdown",
   "source": "# 2. Predicitions",
   "id": "2115615593494b64"
  },
  {
   "metadata": {},
   "cell_type": "markdown",
   "source": [
    "In this step, we take our 524 kb one-hot inputs from FlashZoi preparation and run them through the pretrained Borzoi model to predict CAGE signal in **skeletal muscle**. We:\n",
    "\n",
    "1. Load our FlashZoi metadata (`flashzoi_meta.tsv`), which tells us where each `.npy` lives and its measured GTEx TPM.\n",
    "2. Pull down Borzoi’s config/checkpoint so that we can ask it to return **all** output tracks (not just the central bin).\n",
    "3.Find the CAGE skeletal-muscle track index list based on the FANTOM5 target list: https://github.com/johahi/borzoi-pytorch/blob/main/borzoi_pytorch/precomputed/targets.txt OR https://github.com/calico/borzoi/blob/main/examples/targets_gtex.txt\n",
    "4. For each gene:\n",
    "   - Load its one-hot array.\n",
    "   - Run a forward pass.\n",
    "   - Slice out that one skeletal-muscle track (length 16 352 bins).\n",
    "   - Save both the full per-bin prediction and its mean.\n",
    "5. Write out a combined `borzoi_preds_meta.tsv` so we can join predictions back to expression."
   ],
   "id": "3e1cb05ed8ff7197"
  },
  {
   "metadata": {
    "ExecuteTime": {
     "end_time": "2025-06-08T19:35:23.348685Z",
     "start_time": "2025-06-08T19:35:23.346455Z"
    }
   },
   "cell_type": "code",
   "source": [
    "import os\n",
    "import glob\n",
    "import numpy as np\n",
    "import pandas as pd\n",
    "import torch\n",
    "from borzoi_pytorch import Borzoi\n",
    "from tqdm.auto import tqdm\n",
    "from scipy.stats import pearsonr, spearmanr\n",
    "import matplotlib.pyplot as plt\n",
    "from pathlib import Path"
   ],
   "id": "9de78d1ffa917f22",
   "outputs": [],
   "execution_count": 15
  },
  {
   "metadata": {
    "ExecuteTime": {
     "end_time": "2025-06-09T08:23:19.548201Z",
     "start_time": "2025-06-09T08:23:19.545653Z"
    }
   },
   "cell_type": "code",
   "source": [
    "META_TSV   = \"../data/intermediate/dataset1/chr20_test15_tss±2kb_with_open/flashzoi_inputs/flashzoi_meta.tsv\"\n",
    "OUT_DIR    = \"../data/output/dataset1/borzoi_preds\"\n",
    "CKPT = \"johahi/borzoi-replicate-3\"\n",
    "DEVICE     = torch.device(\"cpu\")\n",
    "TARGETS_TXT= \"../data/initial/targets_human.txt\"     # CAGE/RNA track list\n",
    "DTYPE      = torch.float32                                   # keep FP32\n",
    "\n",
    "os.makedirs(OUT_DIR, exist_ok=True)"
   ],
   "id": "f084068d08105456",
   "outputs": [],
   "execution_count": 37
  },
  {
   "cell_type": "code",
   "id": "initial_id",
   "metadata": {
    "collapsed": true,
    "ExecuteTime": {
     "end_time": "2025-06-09T12:33:01.220656Z",
     "start_time": "2025-06-09T12:32:34.925075Z"
    }
   },
   "source": [
    "#!/usr/bin/env python3\n",
    "\"\"\"\n",
    "Run Borzoi on every gene listed in `META_TSV`, average the *muscle* tracks,\n",
    "and save per-gene predictions.\n",
    "\"\"\"\n",
    "\n",
    "def collect_muscle_tracks(txt: Path) -> list[int]:\n",
    "    \"\"\"Return a sorted list of local track indices whose description contains 'muscle'.\"\"\"\n",
    "    df = pd.read_csv(txt, sep=\"\\t\", comment=\"#\", header=0)\n",
    "    df[\"local_index\"] = np.arange(len(df))\n",
    "    mask   = df[\"description\"].str.contains(r\"skeletal muscle\", case=False, na=False)\n",
    "    tracks = sorted(df.loc[mask, \"local_index\"].astype(int).tolist())\n",
    "    if not tracks:\n",
    "        raise RuntimeError(\"No tracks with the word 'muscle' found in targets_human.txt\")\n",
    "    print(f\"→ using {len(tracks)} skeletal muscle tracks\\n\",\n",
    "          df.loc[tracks[:5], [\"local_index\", \"identifier\", \"description\"]], \"\\n\")\n",
    "    return tracks\n",
    "\n",
    "MUSCLE_TRACKS = collect_muscle_tracks(TARGETS_TXT)\n",
    "\n",
    "print(\"Loading Borzoi checkpoint:\", CKPT)\n",
    "model = Borzoi.from_pretrained(\n",
    "    CKPT,\n",
    "    torch_dtype=DTYPE,\n",
    "    low_cpu_mem_usage=False          # loading real weights, not meta tensors\n",
    ")\n",
    "model.config.return_center_bins_only = False   # 524 288-bp output, not center bin\n",
    "model = model.to_empty(device=DEVICE).eval()\n",
    "\n",
    "OUT_DIR.mkdir(parents=True, exist_ok=True)\n",
    "meta_df   = pd.read_csv(META_TSV, sep=\"\\t\")\n",
    "results   : list[dict] = []\n",
    "\n",
    "for i, row in meta_df.iterrows():\n",
    "    gene   = row[\"gene\"]\n",
    "    onehot = np.load(row[\"onehot_path\"]).astype(np.float32)   # shape (4, 524 288)\n",
    "    x      = torch.from_numpy(onehot).unsqueeze(0).to(DEVICE) # shape (1, 4, 524 288)\n",
    "\n",
    "    with torch.no_grad():\n",
    "        y = model(x)\n",
    "        y = y[\"human\"] if isinstance(y, dict) else y          # (1, n_tracks, n_bins)\n",
    "        if y.dim() != 3:\n",
    "            raise RuntimeError(f\"{gene}: unexpected output shape {tuple(y.shape)}\")\n",
    "        # mean across all muscle-related tracks\n",
    "        bins = y[0, MUSCLE_TRACKS].mean(0).cpu().numpy()      # (n_bins,)\n",
    "\n",
    "    gdir = OUT_DIR / gene\n",
    "    gdir.mkdir(exist_ok=True)\n",
    "    np.save(gdir / f\"{gene}_borzoi_pred.npy\", bins)\n",
    "    mean_ref = float(bins.mean())\n",
    "    np.save(gdir / \"mean_ref.npy\", mean_ref)\n",
    "\n",
    "    results.append({\n",
    "        \"gene\":        gene,\n",
    "        \"expr_value\":  row[\"expr_value\"],\n",
    "        \"expr_rank\":   row[\"expr_rank\"],\n",
    "        \"overlaps2kb\": row[\"overlaps2kb\"],\n",
    "        \"pred_npy\":    str(gdir / f\"{gene}_borzoi_pred.npy\"),\n",
    "        \"mean_ref\":    mean_ref,\n",
    "    })\n",
    "    print(f\"[{i+1}/{len(meta_df)}] {gene:15s}  mean_ref = {mean_ref:8.4f}\")\n",
    "\n",
    "pd.DataFrame(results).to_csv(OUT_DIR / \"borzoi_preds_meta.tsv\", sep=\"\\t\", index=False)\n",
    "print(\"All predictions complete – metadata written to\",\n",
    "      OUT_DIR / \"borzoi_preds_meta.tsv\")"
   ],
   "outputs": [
    {
     "name": "stdout",
     "output_type": "stream",
     "text": [
      "→ using 66 muscle tracks (example rows shown below)\n",
      "      local_index  identifier                            description\n",
      "32            32  CNhs10629+     CAGE:skeletal muscle, adult, pool1\n",
      "33            33  CNhs10629-     CAGE:skeletal muscle, adult, pool1\n",
      "198          198  CNhs11964+  CAGE:Skeletal Muscle Satellite Cells,\n",
      "199          199  CNhs11964-  CAGE:Skeletal Muscle Satellite Cells,\n",
      "274          274  CNhs12053+            CAGE:Skeletal Muscle Cells, \n",
      "\n",
      "Loading Borzoi checkpoint: johahi/borzoi-replicate-2\n"
     ]
    },
    {
     "name": "stderr",
     "output_type": "stream",
     "text": [
      "/Users/markus/seq2expr-variance/.venv/lib/python3.12/site-packages/borzoi_pytorch/pytorch_borzoi_model.py:282: FutureWarning: `torch.cuda.amp.autocast(args...)` is deprecated. Please use `torch.amp.autocast('cuda', args...)` instead.\n",
      "  with torch.cuda.amp.autocast(enabled=False):\n"
     ]
    },
    {
     "name": "stdout",
     "output_type": "stream",
     "text": [
      "[1/15] ENSG00000077984  mean_ref =      nan\n",
      "[2/15] ENSG00000197122  mean_ref =      nan\n",
      "[3/15] ENSG00000101333  mean_ref =      nan\n",
      "[4/15] ENSG00000020256  mean_ref =      nan\n",
      "[5/15] ENSG00000170191  mean_ref =      nan\n",
      "[6/15] ENSG00000149639  mean_ref =      nan\n",
      "[7/15] ENSG00000088827  mean_ref =      nan\n",
      "[8/15] ENSG00000124217  mean_ref =      nan\n",
      "[9/15] ENSG00000089123  mean_ref =      nan\n",
      "[10/15] ENSG00000171940  mean_ref =      nan\n",
      "[11/15] ENSG00000089057  mean_ref =      nan\n",
      "[12/15] ENSG00000101052  mean_ref =      nan\n",
      "[13/15] ENSG00000131061  mean_ref =      nan\n",
      "[14/15] ENSG00000158445  mean_ref =      nan\n",
      "[15/15] ENSG00000196839  mean_ref =      nan\n",
      "\n",
      "✓ All predictions complete – metadata written to ../data/output/dataset1/borzoi_preds/borzoi_preds_meta.tsv\n"
     ]
    }
   ],
   "execution_count": 56
  },
  {
   "metadata": {},
   "cell_type": "markdown",
   "source": "# 2. Predict Variant ΔS and Compute Genetic Variance",
   "id": "547453d30ffe4e2f"
  },
  {
   "metadata": {},
   "cell_type": "markdown",
   "source": [
    "For each common gnomAD SNP in our ±262 kb windows, we:\n",
    "\n",
    "1. Load its reference one-hot and the precomputed **mean_ref** prediction.\n",
    "2. Mutate the one-hot at the SNP position (zero out the ref base, set the alt base).\n",
    "3. Batch up a handful of these ALT one-hots and run them through Borzoi.\n",
    "4. Compute Δ = (mean signal on ALT) – **mean_ref**, then\n",
    "   \\ [\n",
    "      $\\mathrm{var}_i \\;=\\; \\Delta^2 \\times 2\\,\\mathrm{AF}(1-\\mathrm{AF})$\n",
    "   \\]\n",
    "   which is the per-variant contribution to expected genetic variance.\n",
    "5. Write `delta` and `var_i` back into each gene’s `*_variants.tsv`."
   ],
   "id": "d4203efb3d7d6b8e"
  },
  {
   "metadata": {
    "ExecuteTime": {
     "end_time": "2025-06-09T12:14:30.814389Z",
     "start_time": "2025-06-09T12:14:29.993663Z"
    }
   },
   "cell_type": "code",
   "source": [
    "\"\"\"\n",
    "For every gnomAD SNP in ±262 kb of the TSS, run Borzoi on the ALT-allele\n",
    "sequence, subtract the reference signal, and write delta + var_i back\n",
    "into each *_variants.tsv\n",
    "\"\"\"\n",
    "\n",
    "VARIANTS_DIR = \"../data/intermediate/dataset1/flashzoi_inputs/variants\"\n",
    "ONEHOT_DIR   = \"../data/intermediate/dataset1/chr20_test15_tss±2kb_with_open/flashzoi_inputs\"\n",
    "PRED_DIR     = \"../data/output/dataset1/borzoi_preds\"\n",
    "\n",
    "DEVICE = torch.device(\"mps\")\n",
    "model  = Borzoi.from_pretrained(\n",
    "            \"johahi/borzoi-replicate-\",\n",
    "            torch_dtype=torch.float32,\n",
    "            low_cpu_mem_usage=True\n",
    "        ).to_empty(device=DEVICE).eval()\n",
    "\n",
    "BATCH_SIZE = 6\n",
    "BIN_SIZE   = 128\n",
    "CENTER_BIN = 524_288 // BIN_SIZE // 2          # 4 096\n",
    "WIN        = slice(CENTER_BIN-16, CENTER_BIN+16)\n",
    "BASE2ROW   = {b: i for i, b in enumerate(\"ACGT\")}"
   ],
   "id": "15fde99c3f3ed718",
   "outputs": [],
   "execution_count": 50
  },
  {
   "metadata": {},
   "cell_type": "markdown",
   "source": "2.1 Iterate genes & predict deltas",
   "id": "548ffd6181eadbdf"
  },
  {
   "metadata": {
    "ExecuteTime": {
     "end_time": "2025-06-09T12:16:06.490791Z",
     "start_time": "2025-06-09T12:16:03.939692Z"
    }
   },
   "cell_type": "code",
   "source": [
    "genes = sorted([g for g in os.listdir(VARIANTS_DIR)\n",
    "                if os.path.isfile(os.path.join(VARIANTS_DIR, g, f\"{g}_variants.tsv\"))])\n",
    "\n",
    "for gene in genes:\n",
    "    # lodaing variants table\n",
    "    var_tsv = os.path.join(VARIANTS_DIR, gene, f\"{gene}_variants.tsv\")\n",
    "    snps = pd.read_csv(var_tsv, sep=\"\\t\")\n",
    "    if snps.empty:\n",
    "        print(f\"▶ {gene}  (no variants)\"); continue\n",
    "\n",
    "    print(f\"▶ {gene}\")\n",
    "    # loading reference inputs & ref_mean\n",
    "    ref_onehot = np.load(os.path.join(ONEHOT_DIR, f\"{gene}.npy\")).astype(np.float32)\n",
    "    ref_mean   = float(np.load(os.path.join(PRED_DIR, gene, \"mean_ref.npy\")))\n",
    "\n",
    "    deltas, batch = [], []\n",
    "    # tqdm over DataFrame rows gives a slick progress bar\n",
    "    for idx, v in tqdm(snps.iterrows(), total=len(snps), desc=\"   SNPs\", leave=False):\n",
    "        # make ALT one-hot\n",
    "        alt_oh = ref_onehot.copy()\n",
    "        col = int(v.POS0)\n",
    "        alt_oh[:, col] = 0.0\n",
    "        if v.ALT not in BASE2ROW:                # skip non-ACGT alleles\n",
    "            deltas.append(np.nan); continue\n",
    "        alt_oh[BASE2ROW[v.ALT], col] = 1.0\n",
    "        batch.append(torch.from_numpy(alt_oh).unsqueeze(0))\n",
    "\n",
    "        # run when batch full or last SNP, when batch is full or at last SNP, run inference\n",
    "        if len(batch) == BATCH_SIZE or idx == len(snps)-1:\n",
    "            xb = torch.cat(batch).to(DEVICE)\n",
    "            with torch.no_grad():\n",
    "                y = model(xb)\n",
    "                y = y[\"human\"] if isinstance(y, dict) else y\n",
    "                sig = (y[:, 1, WIN] if y.dim()==3 else y[:, WIN]).mean(dim=1)\n",
    "            #Δ = ALT – ref, then append\n",
    "            deltas.extend((sig.cpu().numpy() - ref_mean))\n",
    "            batch.clear()\n",
    "\n",
    "    # write back results\n",
    "    snps[\"delta\"] = deltas\n",
    "    snps[\"AF_float\"] = pd.to_numeric(snps[\"AF\"], errors=\"coerce\")\n",
    "    snps[\"var_i\"] = (snps[\"delta\"]**2) * (2 * snps[\"AF_float\"] * (1 - snps[\"AF_float\"]))\n",
    "    snps.to_csv(var_tsv, sep=\"\\t\", index=False)\n",
    "    print(f\"   → wrote delta + var_i ({len(snps)} rows)\")\n",
    "\n",
    "print(\"All genes processed\")"
   ],
   "id": "d606e56c0dda6a51",
   "outputs": [
    {
     "name": "stdout",
     "output_type": "stream",
     "text": [
      "▶ ENSG00000020256\n"
     ]
    },
    {
     "data": {
      "text/plain": [
       "   SNPs:   0%|          | 0/17355 [00:00<?, ?it/s]"
      ],
      "application/vnd.jupyter.widget-view+json": {
       "version_major": 2,
       "version_minor": 0,
       "model_id": "570ce04d4ab048ecaf73ea152143155b"
      }
     },
     "metadata": {},
     "output_type": "display_data"
    },
    {
     "ename": "RuntimeError",
     "evalue": "MPS backend out of memory (MPS allocated: 16.70 GB, other allocations: 2.80 MB, max allowed: 18.13 GB). Tried to allocate 6.00 GB on private pool. Use PYTORCH_MPS_HIGH_WATERMARK_RATIO=0.0 to disable upper limit for memory allocations (may cause system failure).",
     "output_type": "error",
     "traceback": [
      "\u001B[0;31m---------------------------------------------------------------------------\u001B[0m",
      "\u001B[0;31mRuntimeError\u001B[0m                              Traceback (most recent call last)",
      "Cell \u001B[0;32mIn[52], line 73\u001B[0m\n\u001B[1;32m     71\u001B[0m     \u001B[38;5;28;01mif\u001B[39;00m \u001B[38;5;28mlen\u001B[39m(batch) \u001B[38;5;241m==\u001B[39m BATCH_SIZE \u001B[38;5;129;01mor\u001B[39;00m idx \u001B[38;5;241m==\u001B[39m \u001B[38;5;28mlen\u001B[39m(snps)\u001B[38;5;241m-\u001B[39m\u001B[38;5;241m1\u001B[39m:\n\u001B[1;32m     72\u001B[0m         xb \u001B[38;5;241m=\u001B[39m torch\u001B[38;5;241m.\u001B[39mcat(batch)\u001B[38;5;241m.\u001B[39mto(DEVICE)     \u001B[38;5;66;03m# [B,4,524288]\u001B[39;00m\n\u001B[0;32m---> 73\u001B[0m         deltas\u001B[38;5;241m.\u001B[39mextend(\u001B[43mrun_borzoi\u001B[49m\u001B[43m(\u001B[49m\u001B[43mxb\u001B[49m\u001B[43m,\u001B[49m\u001B[43m \u001B[49m\u001B[43mref_mean\u001B[49m\u001B[43m)\u001B[49m)\n\u001B[1;32m     74\u001B[0m         batch\u001B[38;5;241m.\u001B[39mclear()\n\u001B[1;32m     76\u001B[0m \u001B[38;5;66;03m# write back results\u001B[39;00m\n",
      "Cell \u001B[0;32mIn[52], line 38\u001B[0m, in \u001B[0;36mrun_borzoi\u001B[0;34m(batch_t, ref_mean)\u001B[0m\n\u001B[1;32m     36\u001B[0m \u001B[38;5;250m\u001B[39m\u001B[38;5;124;03m\"\"\"Return Δ = ALT – ref_mean for a 3-D Borzoi output tensor.\"\"\"\u001B[39;00m\n\u001B[1;32m     37\u001B[0m \u001B[38;5;28;01mwith\u001B[39;00m torch\u001B[38;5;241m.\u001B[39mno_grad():\n\u001B[0;32m---> 38\u001B[0m     y \u001B[38;5;241m=\u001B[39m \u001B[43mmodel\u001B[49m\u001B[43m(\u001B[49m\u001B[43mbatch_t\u001B[49m\u001B[43m)\u001B[49m\n\u001B[1;32m     39\u001B[0m     y \u001B[38;5;241m=\u001B[39m y[\u001B[38;5;124m\"\u001B[39m\u001B[38;5;124mhuman\u001B[39m\u001B[38;5;124m\"\u001B[39m] \u001B[38;5;28;01mif\u001B[39;00m \u001B[38;5;28misinstance\u001B[39m(y, \u001B[38;5;28mdict\u001B[39m) \u001B[38;5;28;01melse\u001B[39;00m y     \u001B[38;5;66;03m# [B, tracks, bins]\u001B[39;00m\n\u001B[1;32m     40\u001B[0m     sig \u001B[38;5;241m=\u001B[39m y[:, TRACK_IDX, WIN]\u001B[38;5;241m.\u001B[39mmean(dim\u001B[38;5;241m=\u001B[39m\u001B[38;5;241m1\u001B[39m)           \u001B[38;5;66;03m# mean of 32 bins\u001B[39;00m\n",
      "File \u001B[0;32m~/seq2expr-variance/.venv/lib/python3.12/site-packages/torch/nn/modules/module.py:1751\u001B[0m, in \u001B[0;36mModule._wrapped_call_impl\u001B[0;34m(self, *args, **kwargs)\u001B[0m\n\u001B[1;32m   1749\u001B[0m     \u001B[38;5;28;01mreturn\u001B[39;00m \u001B[38;5;28mself\u001B[39m\u001B[38;5;241m.\u001B[39m_compiled_call_impl(\u001B[38;5;241m*\u001B[39margs, \u001B[38;5;241m*\u001B[39m\u001B[38;5;241m*\u001B[39mkwargs)  \u001B[38;5;66;03m# type: ignore[misc]\u001B[39;00m\n\u001B[1;32m   1750\u001B[0m \u001B[38;5;28;01melse\u001B[39;00m:\n\u001B[0;32m-> 1751\u001B[0m     \u001B[38;5;28;01mreturn\u001B[39;00m \u001B[38;5;28;43mself\u001B[39;49m\u001B[38;5;241;43m.\u001B[39;49m\u001B[43m_call_impl\u001B[49m\u001B[43m(\u001B[49m\u001B[38;5;241;43m*\u001B[39;49m\u001B[43margs\u001B[49m\u001B[43m,\u001B[49m\u001B[43m \u001B[49m\u001B[38;5;241;43m*\u001B[39;49m\u001B[38;5;241;43m*\u001B[39;49m\u001B[43mkwargs\u001B[49m\u001B[43m)\u001B[49m\n",
      "File \u001B[0;32m~/seq2expr-variance/.venv/lib/python3.12/site-packages/torch/nn/modules/module.py:1762\u001B[0m, in \u001B[0;36mModule._call_impl\u001B[0;34m(self, *args, **kwargs)\u001B[0m\n\u001B[1;32m   1757\u001B[0m \u001B[38;5;66;03m# If we don't have any hooks, we want to skip the rest of the logic in\u001B[39;00m\n\u001B[1;32m   1758\u001B[0m \u001B[38;5;66;03m# this function, and just call forward.\u001B[39;00m\n\u001B[1;32m   1759\u001B[0m \u001B[38;5;28;01mif\u001B[39;00m \u001B[38;5;129;01mnot\u001B[39;00m (\u001B[38;5;28mself\u001B[39m\u001B[38;5;241m.\u001B[39m_backward_hooks \u001B[38;5;129;01mor\u001B[39;00m \u001B[38;5;28mself\u001B[39m\u001B[38;5;241m.\u001B[39m_backward_pre_hooks \u001B[38;5;129;01mor\u001B[39;00m \u001B[38;5;28mself\u001B[39m\u001B[38;5;241m.\u001B[39m_forward_hooks \u001B[38;5;129;01mor\u001B[39;00m \u001B[38;5;28mself\u001B[39m\u001B[38;5;241m.\u001B[39m_forward_pre_hooks\n\u001B[1;32m   1760\u001B[0m         \u001B[38;5;129;01mor\u001B[39;00m _global_backward_pre_hooks \u001B[38;5;129;01mor\u001B[39;00m _global_backward_hooks\n\u001B[1;32m   1761\u001B[0m         \u001B[38;5;129;01mor\u001B[39;00m _global_forward_hooks \u001B[38;5;129;01mor\u001B[39;00m _global_forward_pre_hooks):\n\u001B[0;32m-> 1762\u001B[0m     \u001B[38;5;28;01mreturn\u001B[39;00m \u001B[43mforward_call\u001B[49m\u001B[43m(\u001B[49m\u001B[38;5;241;43m*\u001B[39;49m\u001B[43margs\u001B[49m\u001B[43m,\u001B[49m\u001B[43m \u001B[49m\u001B[38;5;241;43m*\u001B[39;49m\u001B[38;5;241;43m*\u001B[39;49m\u001B[43mkwargs\u001B[49m\u001B[43m)\u001B[49m\n\u001B[1;32m   1764\u001B[0m result \u001B[38;5;241m=\u001B[39m \u001B[38;5;28;01mNone\u001B[39;00m\n\u001B[1;32m   1765\u001B[0m called_always_called_hooks \u001B[38;5;241m=\u001B[39m \u001B[38;5;28mset\u001B[39m()\n",
      "File \u001B[0;32m~/seq2expr-variance/.venv/lib/python3.12/site-packages/borzoi_pytorch/pytorch_borzoi_model.py:279\u001B[0m, in \u001B[0;36mBorzoi.forward\u001B[0;34m(self, x, is_human, data_parallel_training)\u001B[0m\n\u001B[1;32m    267\u001B[0m \u001B[38;5;28;01mdef\u001B[39;00m \u001B[38;5;21mforward\u001B[39m(\u001B[38;5;28mself\u001B[39m, x, is_human \u001B[38;5;241m=\u001B[39m \u001B[38;5;28;01mTrue\u001B[39;00m, data_parallel_training \u001B[38;5;241m=\u001B[39m \u001B[38;5;28;01mFalse\u001B[39;00m):\n\u001B[1;32m    268\u001B[0m \u001B[38;5;250m    \u001B[39m\u001B[38;5;124;03m\"\"\"\u001B[39;00m\n\u001B[1;32m    269\u001B[0m \u001B[38;5;124;03m    Performs the forward pass of the model.\u001B[39;00m\n\u001B[1;32m    270\u001B[0m \n\u001B[0;32m   (...)\u001B[0m\n\u001B[1;32m    277\u001B[0m \u001B[38;5;124;03m        torch.Tensor: Output tensor with shape (N, C, L), where C is the number of tracks.\u001B[39;00m\n\u001B[1;32m    278\u001B[0m \u001B[38;5;124;03m    \"\"\"\u001B[39;00m\n\u001B[0;32m--> 279\u001B[0m     x \u001B[38;5;241m=\u001B[39m \u001B[38;5;28;43mself\u001B[39;49m\u001B[38;5;241;43m.\u001B[39;49m\u001B[43mget_embs_after_crop\u001B[49m\u001B[43m(\u001B[49m\u001B[43mx\u001B[49m\u001B[43m)\u001B[49m\n\u001B[1;32m    280\u001B[0m     x \u001B[38;5;241m=\u001B[39m \u001B[38;5;28mself\u001B[39m\u001B[38;5;241m.\u001B[39mfinal_joined_convs(x)\n\u001B[1;32m    281\u001B[0m     \u001B[38;5;66;03m# disable autocast for more precision in final layer\u001B[39;00m\n",
      "File \u001B[0;32m~/seq2expr-variance/.venv/lib/python3.12/site-packages/borzoi_pytorch/pytorch_borzoi_model.py:215\u001B[0m, in \u001B[0;36mBorzoi.get_embs_after_crop\u001B[0;34m(self, x)\u001B[0m\n\u001B[1;32m    205\u001B[0m \u001B[38;5;28;01mdef\u001B[39;00m \u001B[38;5;21mget_embs_after_crop\u001B[39m(\u001B[38;5;28mself\u001B[39m, x):\n\u001B[1;32m    206\u001B[0m \u001B[38;5;250m    \u001B[39m\u001B[38;5;124;03m\"\"\"\u001B[39;00m\n\u001B[1;32m    207\u001B[0m \u001B[38;5;124;03m    Performs the forward pass of the model until right before the final conv layers, and includes a cropping layer.\u001B[39;00m\n\u001B[1;32m    208\u001B[0m \n\u001B[0;32m   (...)\u001B[0m\n\u001B[1;32m    213\u001B[0m \u001B[38;5;124;03m         torch.Tensor: Output of the model up to the cropping layer with shape (N, dim, crop_length)\u001B[39;00m\n\u001B[1;32m    214\u001B[0m \u001B[38;5;124;03m    \"\"\"\u001B[39;00m\n\u001B[0;32m--> 215\u001B[0m     x \u001B[38;5;241m=\u001B[39m \u001B[38;5;28;43mself\u001B[39;49m\u001B[38;5;241;43m.\u001B[39;49m\u001B[43mconv_dna\u001B[49m\u001B[43m(\u001B[49m\u001B[43mx\u001B[49m\u001B[43m)\u001B[49m\n\u001B[1;32m    216\u001B[0m     x_unet0 \u001B[38;5;241m=\u001B[39m \u001B[38;5;28mself\u001B[39m\u001B[38;5;241m.\u001B[39mres_tower(x)\n\u001B[1;32m    217\u001B[0m     x_unet1 \u001B[38;5;241m=\u001B[39m \u001B[38;5;28mself\u001B[39m\u001B[38;5;241m.\u001B[39munet1(x_unet0)\n",
      "File \u001B[0;32m~/seq2expr-variance/.venv/lib/python3.12/site-packages/torch/nn/modules/module.py:1751\u001B[0m, in \u001B[0;36mModule._wrapped_call_impl\u001B[0;34m(self, *args, **kwargs)\u001B[0m\n\u001B[1;32m   1749\u001B[0m     \u001B[38;5;28;01mreturn\u001B[39;00m \u001B[38;5;28mself\u001B[39m\u001B[38;5;241m.\u001B[39m_compiled_call_impl(\u001B[38;5;241m*\u001B[39margs, \u001B[38;5;241m*\u001B[39m\u001B[38;5;241m*\u001B[39mkwargs)  \u001B[38;5;66;03m# type: ignore[misc]\u001B[39;00m\n\u001B[1;32m   1750\u001B[0m \u001B[38;5;28;01melse\u001B[39;00m:\n\u001B[0;32m-> 1751\u001B[0m     \u001B[38;5;28;01mreturn\u001B[39;00m \u001B[38;5;28;43mself\u001B[39;49m\u001B[38;5;241;43m.\u001B[39;49m\u001B[43m_call_impl\u001B[49m\u001B[43m(\u001B[49m\u001B[38;5;241;43m*\u001B[39;49m\u001B[43margs\u001B[49m\u001B[43m,\u001B[49m\u001B[43m \u001B[49m\u001B[38;5;241;43m*\u001B[39;49m\u001B[38;5;241;43m*\u001B[39;49m\u001B[43mkwargs\u001B[49m\u001B[43m)\u001B[49m\n",
      "File \u001B[0;32m~/seq2expr-variance/.venv/lib/python3.12/site-packages/torch/nn/modules/module.py:1762\u001B[0m, in \u001B[0;36mModule._call_impl\u001B[0;34m(self, *args, **kwargs)\u001B[0m\n\u001B[1;32m   1757\u001B[0m \u001B[38;5;66;03m# If we don't have any hooks, we want to skip the rest of the logic in\u001B[39;00m\n\u001B[1;32m   1758\u001B[0m \u001B[38;5;66;03m# this function, and just call forward.\u001B[39;00m\n\u001B[1;32m   1759\u001B[0m \u001B[38;5;28;01mif\u001B[39;00m \u001B[38;5;129;01mnot\u001B[39;00m (\u001B[38;5;28mself\u001B[39m\u001B[38;5;241m.\u001B[39m_backward_hooks \u001B[38;5;129;01mor\u001B[39;00m \u001B[38;5;28mself\u001B[39m\u001B[38;5;241m.\u001B[39m_backward_pre_hooks \u001B[38;5;129;01mor\u001B[39;00m \u001B[38;5;28mself\u001B[39m\u001B[38;5;241m.\u001B[39m_forward_hooks \u001B[38;5;129;01mor\u001B[39;00m \u001B[38;5;28mself\u001B[39m\u001B[38;5;241m.\u001B[39m_forward_pre_hooks\n\u001B[1;32m   1760\u001B[0m         \u001B[38;5;129;01mor\u001B[39;00m _global_backward_pre_hooks \u001B[38;5;129;01mor\u001B[39;00m _global_backward_hooks\n\u001B[1;32m   1761\u001B[0m         \u001B[38;5;129;01mor\u001B[39;00m _global_forward_hooks \u001B[38;5;129;01mor\u001B[39;00m _global_forward_pre_hooks):\n\u001B[0;32m-> 1762\u001B[0m     \u001B[38;5;28;01mreturn\u001B[39;00m \u001B[43mforward_call\u001B[49m\u001B[43m(\u001B[49m\u001B[38;5;241;43m*\u001B[39;49m\u001B[43margs\u001B[49m\u001B[43m,\u001B[49m\u001B[43m \u001B[49m\u001B[38;5;241;43m*\u001B[39;49m\u001B[38;5;241;43m*\u001B[39;49m\u001B[43mkwargs\u001B[49m\u001B[43m)\u001B[49m\n\u001B[1;32m   1764\u001B[0m result \u001B[38;5;241m=\u001B[39m \u001B[38;5;28;01mNone\u001B[39;00m\n\u001B[1;32m   1765\u001B[0m called_always_called_hooks \u001B[38;5;241m=\u001B[39m \u001B[38;5;28mset\u001B[39m()\n",
      "File \u001B[0;32m~/seq2expr-variance/.venv/lib/python3.12/site-packages/borzoi_pytorch/pytorch_borzoi_model.py:45\u001B[0m, in \u001B[0;36mConvDna.forward\u001B[0;34m(self, x)\u001B[0m\n\u001B[1;32m     44\u001B[0m \u001B[38;5;28;01mdef\u001B[39;00m \u001B[38;5;21mforward\u001B[39m(\u001B[38;5;28mself\u001B[39m, x):\n\u001B[0;32m---> 45\u001B[0m     \u001B[38;5;28;01mreturn\u001B[39;00m \u001B[38;5;28;43mself\u001B[39;49m\u001B[38;5;241;43m.\u001B[39;49m\u001B[43mmax_pool\u001B[49m\u001B[43m(\u001B[49m\u001B[38;5;28;43mself\u001B[39;49m\u001B[38;5;241;43m.\u001B[39;49m\u001B[43mconv_layer\u001B[49m\u001B[43m(\u001B[49m\u001B[43mx\u001B[49m\u001B[43m)\u001B[49m\u001B[43m)\u001B[49m\n",
      "File \u001B[0;32m~/seq2expr-variance/.venv/lib/python3.12/site-packages/torch/nn/modules/module.py:1751\u001B[0m, in \u001B[0;36mModule._wrapped_call_impl\u001B[0;34m(self, *args, **kwargs)\u001B[0m\n\u001B[1;32m   1749\u001B[0m     \u001B[38;5;28;01mreturn\u001B[39;00m \u001B[38;5;28mself\u001B[39m\u001B[38;5;241m.\u001B[39m_compiled_call_impl(\u001B[38;5;241m*\u001B[39margs, \u001B[38;5;241m*\u001B[39m\u001B[38;5;241m*\u001B[39mkwargs)  \u001B[38;5;66;03m# type: ignore[misc]\u001B[39;00m\n\u001B[1;32m   1750\u001B[0m \u001B[38;5;28;01melse\u001B[39;00m:\n\u001B[0;32m-> 1751\u001B[0m     \u001B[38;5;28;01mreturn\u001B[39;00m \u001B[38;5;28;43mself\u001B[39;49m\u001B[38;5;241;43m.\u001B[39;49m\u001B[43m_call_impl\u001B[49m\u001B[43m(\u001B[49m\u001B[38;5;241;43m*\u001B[39;49m\u001B[43margs\u001B[49m\u001B[43m,\u001B[49m\u001B[43m \u001B[49m\u001B[38;5;241;43m*\u001B[39;49m\u001B[38;5;241;43m*\u001B[39;49m\u001B[43mkwargs\u001B[49m\u001B[43m)\u001B[49m\n",
      "File \u001B[0;32m~/seq2expr-variance/.venv/lib/python3.12/site-packages/torch/nn/modules/module.py:1762\u001B[0m, in \u001B[0;36mModule._call_impl\u001B[0;34m(self, *args, **kwargs)\u001B[0m\n\u001B[1;32m   1757\u001B[0m \u001B[38;5;66;03m# If we don't have any hooks, we want to skip the rest of the logic in\u001B[39;00m\n\u001B[1;32m   1758\u001B[0m \u001B[38;5;66;03m# this function, and just call forward.\u001B[39;00m\n\u001B[1;32m   1759\u001B[0m \u001B[38;5;28;01mif\u001B[39;00m \u001B[38;5;129;01mnot\u001B[39;00m (\u001B[38;5;28mself\u001B[39m\u001B[38;5;241m.\u001B[39m_backward_hooks \u001B[38;5;129;01mor\u001B[39;00m \u001B[38;5;28mself\u001B[39m\u001B[38;5;241m.\u001B[39m_backward_pre_hooks \u001B[38;5;129;01mor\u001B[39;00m \u001B[38;5;28mself\u001B[39m\u001B[38;5;241m.\u001B[39m_forward_hooks \u001B[38;5;129;01mor\u001B[39;00m \u001B[38;5;28mself\u001B[39m\u001B[38;5;241m.\u001B[39m_forward_pre_hooks\n\u001B[1;32m   1760\u001B[0m         \u001B[38;5;129;01mor\u001B[39;00m _global_backward_pre_hooks \u001B[38;5;129;01mor\u001B[39;00m _global_backward_hooks\n\u001B[1;32m   1761\u001B[0m         \u001B[38;5;129;01mor\u001B[39;00m _global_forward_hooks \u001B[38;5;129;01mor\u001B[39;00m _global_forward_pre_hooks):\n\u001B[0;32m-> 1762\u001B[0m     \u001B[38;5;28;01mreturn\u001B[39;00m \u001B[43mforward_call\u001B[49m\u001B[43m(\u001B[49m\u001B[38;5;241;43m*\u001B[39;49m\u001B[43margs\u001B[49m\u001B[43m,\u001B[49m\u001B[43m \u001B[49m\u001B[38;5;241;43m*\u001B[39;49m\u001B[38;5;241;43m*\u001B[39;49m\u001B[43mkwargs\u001B[49m\u001B[43m)\u001B[49m\n\u001B[1;32m   1764\u001B[0m result \u001B[38;5;241m=\u001B[39m \u001B[38;5;28;01mNone\u001B[39;00m\n\u001B[1;32m   1765\u001B[0m called_always_called_hooks \u001B[38;5;241m=\u001B[39m \u001B[38;5;28mset\u001B[39m()\n",
      "File \u001B[0;32m~/seq2expr-variance/.venv/lib/python3.12/site-packages/torch/nn/modules/pooling.py:134\u001B[0m, in \u001B[0;36mMaxPool1d.forward\u001B[0;34m(self, input)\u001B[0m\n\u001B[1;32m    133\u001B[0m \u001B[38;5;28;01mdef\u001B[39;00m \u001B[38;5;21mforward\u001B[39m(\u001B[38;5;28mself\u001B[39m, \u001B[38;5;28minput\u001B[39m: Tensor):\n\u001B[0;32m--> 134\u001B[0m     \u001B[38;5;28;01mreturn\u001B[39;00m \u001B[43mF\u001B[49m\u001B[38;5;241;43m.\u001B[39;49m\u001B[43mmax_pool1d\u001B[49m\u001B[43m(\u001B[49m\n\u001B[1;32m    135\u001B[0m \u001B[43m        \u001B[49m\u001B[38;5;28;43minput\u001B[39;49m\u001B[43m,\u001B[49m\n\u001B[1;32m    136\u001B[0m \u001B[43m        \u001B[49m\u001B[38;5;28;43mself\u001B[39;49m\u001B[38;5;241;43m.\u001B[39;49m\u001B[43mkernel_size\u001B[49m\u001B[43m,\u001B[49m\n\u001B[1;32m    137\u001B[0m \u001B[43m        \u001B[49m\u001B[38;5;28;43mself\u001B[39;49m\u001B[38;5;241;43m.\u001B[39;49m\u001B[43mstride\u001B[49m\u001B[43m,\u001B[49m\n\u001B[1;32m    138\u001B[0m \u001B[43m        \u001B[49m\u001B[38;5;28;43mself\u001B[39;49m\u001B[38;5;241;43m.\u001B[39;49m\u001B[43mpadding\u001B[49m\u001B[43m,\u001B[49m\n\u001B[1;32m    139\u001B[0m \u001B[43m        \u001B[49m\u001B[38;5;28;43mself\u001B[39;49m\u001B[38;5;241;43m.\u001B[39;49m\u001B[43mdilation\u001B[49m\u001B[43m,\u001B[49m\n\u001B[1;32m    140\u001B[0m \u001B[43m        \u001B[49m\u001B[43mceil_mode\u001B[49m\u001B[38;5;241;43m=\u001B[39;49m\u001B[38;5;28;43mself\u001B[39;49m\u001B[38;5;241;43m.\u001B[39;49m\u001B[43mceil_mode\u001B[49m\u001B[43m,\u001B[49m\n\u001B[1;32m    141\u001B[0m \u001B[43m        \u001B[49m\u001B[43mreturn_indices\u001B[49m\u001B[38;5;241;43m=\u001B[39;49m\u001B[38;5;28;43mself\u001B[39;49m\u001B[38;5;241;43m.\u001B[39;49m\u001B[43mreturn_indices\u001B[49m\u001B[43m,\u001B[49m\n\u001B[1;32m    142\u001B[0m \u001B[43m    \u001B[49m\u001B[43m)\u001B[49m\n",
      "File \u001B[0;32m~/seq2expr-variance/.venv/lib/python3.12/site-packages/torch/_jit_internal.py:622\u001B[0m, in \u001B[0;36mboolean_dispatch.<locals>.fn\u001B[0;34m(*args, **kwargs)\u001B[0m\n\u001B[1;32m    620\u001B[0m     \u001B[38;5;28;01mreturn\u001B[39;00m if_true(\u001B[38;5;241m*\u001B[39margs, \u001B[38;5;241m*\u001B[39m\u001B[38;5;241m*\u001B[39mkwargs)\n\u001B[1;32m    621\u001B[0m \u001B[38;5;28;01melse\u001B[39;00m:\n\u001B[0;32m--> 622\u001B[0m     \u001B[38;5;28;01mreturn\u001B[39;00m \u001B[43mif_false\u001B[49m\u001B[43m(\u001B[49m\u001B[38;5;241;43m*\u001B[39;49m\u001B[43margs\u001B[49m\u001B[43m,\u001B[49m\u001B[43m \u001B[49m\u001B[38;5;241;43m*\u001B[39;49m\u001B[38;5;241;43m*\u001B[39;49m\u001B[43mkwargs\u001B[49m\u001B[43m)\u001B[49m\n",
      "File \u001B[0;32m~/seq2expr-variance/.venv/lib/python3.12/site-packages/torch/nn/functional.py:740\u001B[0m, in \u001B[0;36m_max_pool1d\u001B[0;34m(input, kernel_size, stride, padding, dilation, ceil_mode, return_indices)\u001B[0m\n\u001B[1;32m    738\u001B[0m \u001B[38;5;28;01mif\u001B[39;00m stride \u001B[38;5;129;01mis\u001B[39;00m \u001B[38;5;28;01mNone\u001B[39;00m:\n\u001B[1;32m    739\u001B[0m     stride \u001B[38;5;241m=\u001B[39m torch\u001B[38;5;241m.\u001B[39mjit\u001B[38;5;241m.\u001B[39mannotate(\u001B[38;5;28mlist\u001B[39m[\u001B[38;5;28mint\u001B[39m], [])\n\u001B[0;32m--> 740\u001B[0m \u001B[38;5;28;01mreturn\u001B[39;00m \u001B[43mtorch\u001B[49m\u001B[38;5;241;43m.\u001B[39;49m\u001B[43mmax_pool1d\u001B[49m\u001B[43m(\u001B[49m\u001B[38;5;28;43minput\u001B[39;49m\u001B[43m,\u001B[49m\u001B[43m \u001B[49m\u001B[43mkernel_size\u001B[49m\u001B[43m,\u001B[49m\u001B[43m \u001B[49m\u001B[43mstride\u001B[49m\u001B[43m,\u001B[49m\u001B[43m \u001B[49m\u001B[43mpadding\u001B[49m\u001B[43m,\u001B[49m\u001B[43m \u001B[49m\u001B[43mdilation\u001B[49m\u001B[43m,\u001B[49m\u001B[43m \u001B[49m\u001B[43mceil_mode\u001B[49m\u001B[43m)\u001B[49m\n",
      "\u001B[0;31mRuntimeError\u001B[0m: MPS backend out of memory (MPS allocated: 16.70 GB, other allocations: 2.80 MB, max allowed: 18.13 GB). Tried to allocate 6.00 GB on private pool. Use PYTORCH_MPS_HIGH_WATERMARK_RATIO=0.0 to disable upper limit for memory allocations (may cause system failure)."
     ]
    }
   ],
   "execution_count": 52
  },
  {
   "metadata": {},
   "cell_type": "markdown",
   "source": "## 3. Inspect data",
   "id": "62f5281a8cacbcc"
  },
  {
   "metadata": {},
   "cell_type": "markdown",
   "source": "## 3.1 Reference vs Expression",
   "id": "107dad6b402776b3"
  },
  {
   "metadata": {
    "ExecuteTime": {
     "end_time": "2025-06-08T19:34:35.160978Z",
     "start_time": "2025-06-08T19:34:35.157925Z"
    }
   },
   "cell_type": "code",
   "source": [
    "PRED_META = \"../data/output/dataset1/borzoi_preds/borzoi_preds_meta.tsv\"\n",
    "VAR_DIR   = \"../data/intermediate/dataset1/flashzoi_inputs/variants\""
   ],
   "id": "b9bf19e2de814a4c",
   "outputs": [],
   "execution_count": 11
  },
  {
   "metadata": {
    "ExecuteTime": {
     "end_time": "2025-06-08T19:34:41.032206Z",
     "start_time": "2025-06-08T19:34:40.822200Z"
    }
   },
   "cell_type": "code",
   "source": [
    "preds = pd.read_csv(PRED_META, sep=\"\\t\")\n",
    "plt.figure(figsize=(5,5))\n",
    "plt.scatter(preds[\"expr_value\"], preds[\"mean_ref\"], alpha=0.7)\n",
    "plt.xscale(\"log\")\n",
    "plt.yscale(\"log\")\n",
    "plt.xlabel(\"GTEx muscle TPM\")\n",
    "plt.ylabel(\"Borzoi mean CAGE signal\")\n",
    "pearson_r, pearson_p = pearsonr(preds[\"expr_value\"], preds[\"mean_ref\"])\n",
    "spearman_r, spearman_p = spearmanr(preds[\"expr_value\"], preds[\"mean_ref\"])\n",
    "plt.title(f\"rₚ={pearson_r:.2f}, rₛ={spearman_r:.2f}\")\n",
    "plt.tight_layout()\n",
    "plt.show()"
   ],
   "id": "36dbda5f195a2727",
   "outputs": [
    {
     "name": "stderr",
     "output_type": "stream",
     "text": [
      "/var/folders/4k/lmr1c7ss61n50vqkw_40j0pm0000gn/T/ipykernel_14488/243157249.py:8: ConstantInputWarning: An input array is constant; the correlation coefficient is not defined.\n",
      "  pearson_r, pearson_p = pearsonr(preds[\"expr_value\"], preds[\"mean_ref\"])\n",
      "/var/folders/4k/lmr1c7ss61n50vqkw_40j0pm0000gn/T/ipykernel_14488/243157249.py:9: ConstantInputWarning: An input array is constant; the correlation coefficient is not defined.\n",
      "  spearman_r, spearman_p = spearmanr(preds[\"expr_value\"], preds[\"mean_ref\"])\n"
     ]
    },
    {
     "data": {
      "text/plain": [
       "<Figure size 500x500 with 1 Axes>"
      ],
      "image/png": "[encoded data removed]"
     },
     "metadata": {},
     "output_type": "display_data"
    }
   ],
   "execution_count": 13
  },
  {
   "metadata": {},
   "cell_type": "markdown",
   "source": "## 3.2 Δ distribution across all variants",
   "id": "f5bb388c9d731952"
  },
  {
   "metadata": {
    "ExecuteTime": {
     "end_time": "2025-06-08T19:35:26.671327Z",
     "start_time": "2025-06-08T19:35:26.298134Z"
    }
   },
   "cell_type": "code",
   "source": [
    "# gather every 'delta' column\n",
    "all_deltas = []\n",
    "for tsv in glob.glob(os.path.join(VAR_DIR, \"*\", \"*_variants.tsv\")):\n",
    "    df = pd.read_csv(tsv, sep=\"\\t\")\n",
    "    all_deltas.append(df[\"delta\"].dropna().astype(float))\n",
    "all_deltas = pd.concat(all_deltas, ignore_index=True)\n",
    "\n",
    "plt.figure(figsize=(5,4))\n",
    "plt.hist(all_deltas, bins=100)\n",
    "plt.xlabel(\"Δ (Borzoi ALT − REF)\")\n",
    "plt.ylabel(\"Count\")\n",
    "plt.title(\"Distribution of predicted Δ across all variants\")\n",
    "plt.tight_layout()\n",
    "plt.show()"
   ],
   "id": "ceb747c8fd899d73",
   "outputs": [
    {
     "ename": "KeyError",
     "evalue": "'delta'",
     "output_type": "error",
     "traceback": [
      "\u001B[0;31m---------------------------------------------------------------------------\u001B[0m",
      "\u001B[0;31mKeyError\u001B[0m                                  Traceback (most recent call last)",
      "File \u001B[0;32m/Library/Frameworks/Python.framework/Versions/3.12/lib/python3.12/site-packages/pandas/core/indexes/base.py:3805\u001B[0m, in \u001B[0;36mIndex.get_loc\u001B[0;34m(self, key)\u001B[0m\n\u001B[1;32m   3804\u001B[0m \u001B[38;5;28;01mtry\u001B[39;00m:\n\u001B[0;32m-> 3805\u001B[0m     \u001B[38;5;28;01mreturn\u001B[39;00m \u001B[38;5;28;43mself\u001B[39;49m\u001B[38;5;241;43m.\u001B[39;49m\u001B[43m_engine\u001B[49m\u001B[38;5;241;43m.\u001B[39;49m\u001B[43mget_loc\u001B[49m\u001B[43m(\u001B[49m\u001B[43mcasted_key\u001B[49m\u001B[43m)\u001B[49m\n\u001B[1;32m   3806\u001B[0m \u001B[38;5;28;01mexcept\u001B[39;00m \u001B[38;5;167;01mKeyError\u001B[39;00m \u001B[38;5;28;01mas\u001B[39;00m err:\n",
      "File \u001B[0;32mindex.pyx:167\u001B[0m, in \u001B[0;36mpandas._libs.index.IndexEngine.get_loc\u001B[0;34m()\u001B[0m\n",
      "File \u001B[0;32mindex.pyx:196\u001B[0m, in \u001B[0;36mpandas._libs.index.IndexEngine.get_loc\u001B[0;34m()\u001B[0m\n",
      "File \u001B[0;32mpandas/_libs/hashtable_class_helper.pxi:7081\u001B[0m, in \u001B[0;36mpandas._libs.hashtable.PyObjectHashTable.get_item\u001B[0;34m()\u001B[0m\n",
      "File \u001B[0;32mpandas/_libs/hashtable_class_helper.pxi:7089\u001B[0m, in \u001B[0;36mpandas._libs.hashtable.PyObjectHashTable.get_item\u001B[0;34m()\u001B[0m\n",
      "\u001B[0;31mKeyError\u001B[0m: 'delta'",
      "\nThe above exception was the direct cause of the following exception:\n",
      "\u001B[0;31mKeyError\u001B[0m                                  Traceback (most recent call last)",
      "Cell \u001B[0;32mIn[16], line 5\u001B[0m\n\u001B[1;32m      3\u001B[0m \u001B[38;5;28;01mfor\u001B[39;00m tsv \u001B[38;5;129;01min\u001B[39;00m glob\u001B[38;5;241m.\u001B[39mglob(os\u001B[38;5;241m.\u001B[39mpath\u001B[38;5;241m.\u001B[39mjoin(VAR_DIR, \u001B[38;5;124m\"\u001B[39m\u001B[38;5;124m*\u001B[39m\u001B[38;5;124m\"\u001B[39m, \u001B[38;5;124m\"\u001B[39m\u001B[38;5;124m*_variants.tsv\u001B[39m\u001B[38;5;124m\"\u001B[39m)):\n\u001B[1;32m      4\u001B[0m     df \u001B[38;5;241m=\u001B[39m pd\u001B[38;5;241m.\u001B[39mread_csv(tsv, sep\u001B[38;5;241m=\u001B[39m\u001B[38;5;124m\"\u001B[39m\u001B[38;5;130;01m\\t\u001B[39;00m\u001B[38;5;124m\"\u001B[39m)\n\u001B[0;32m----> 5\u001B[0m     all_deltas\u001B[38;5;241m.\u001B[39mappend(\u001B[43mdf\u001B[49m\u001B[43m[\u001B[49m\u001B[38;5;124;43m\"\u001B[39;49m\u001B[38;5;124;43mdelta\u001B[39;49m\u001B[38;5;124;43m\"\u001B[39;49m\u001B[43m]\u001B[49m\u001B[38;5;241m.\u001B[39mdropna()\u001B[38;5;241m.\u001B[39mastype(\u001B[38;5;28mfloat\u001B[39m))\n\u001B[1;32m      6\u001B[0m all_deltas \u001B[38;5;241m=\u001B[39m pd\u001B[38;5;241m.\u001B[39mconcat(all_deltas, ignore_index\u001B[38;5;241m=\u001B[39m\u001B[38;5;28;01mTrue\u001B[39;00m)\n\u001B[1;32m      8\u001B[0m plt\u001B[38;5;241m.\u001B[39mfigure(figsize\u001B[38;5;241m=\u001B[39m(\u001B[38;5;241m5\u001B[39m,\u001B[38;5;241m4\u001B[39m))\n",
      "File \u001B[0;32m/Library/Frameworks/Python.framework/Versions/3.12/lib/python3.12/site-packages/pandas/core/frame.py:4102\u001B[0m, in \u001B[0;36mDataFrame.__getitem__\u001B[0;34m(self, key)\u001B[0m\n\u001B[1;32m   4100\u001B[0m \u001B[38;5;28;01mif\u001B[39;00m \u001B[38;5;28mself\u001B[39m\u001B[38;5;241m.\u001B[39mcolumns\u001B[38;5;241m.\u001B[39mnlevels \u001B[38;5;241m>\u001B[39m \u001B[38;5;241m1\u001B[39m:\n\u001B[1;32m   4101\u001B[0m     \u001B[38;5;28;01mreturn\u001B[39;00m \u001B[38;5;28mself\u001B[39m\u001B[38;5;241m.\u001B[39m_getitem_multilevel(key)\n\u001B[0;32m-> 4102\u001B[0m indexer \u001B[38;5;241m=\u001B[39m \u001B[38;5;28;43mself\u001B[39;49m\u001B[38;5;241;43m.\u001B[39;49m\u001B[43mcolumns\u001B[49m\u001B[38;5;241;43m.\u001B[39;49m\u001B[43mget_loc\u001B[49m\u001B[43m(\u001B[49m\u001B[43mkey\u001B[49m\u001B[43m)\u001B[49m\n\u001B[1;32m   4103\u001B[0m \u001B[38;5;28;01mif\u001B[39;00m is_integer(indexer):\n\u001B[1;32m   4104\u001B[0m     indexer \u001B[38;5;241m=\u001B[39m [indexer]\n",
      "File \u001B[0;32m/Library/Frameworks/Python.framework/Versions/3.12/lib/python3.12/site-packages/pandas/core/indexes/base.py:3812\u001B[0m, in \u001B[0;36mIndex.get_loc\u001B[0;34m(self, key)\u001B[0m\n\u001B[1;32m   3807\u001B[0m     \u001B[38;5;28;01mif\u001B[39;00m \u001B[38;5;28misinstance\u001B[39m(casted_key, \u001B[38;5;28mslice\u001B[39m) \u001B[38;5;129;01mor\u001B[39;00m (\n\u001B[1;32m   3808\u001B[0m         \u001B[38;5;28misinstance\u001B[39m(casted_key, abc\u001B[38;5;241m.\u001B[39mIterable)\n\u001B[1;32m   3809\u001B[0m         \u001B[38;5;129;01mand\u001B[39;00m \u001B[38;5;28many\u001B[39m(\u001B[38;5;28misinstance\u001B[39m(x, \u001B[38;5;28mslice\u001B[39m) \u001B[38;5;28;01mfor\u001B[39;00m x \u001B[38;5;129;01min\u001B[39;00m casted_key)\n\u001B[1;32m   3810\u001B[0m     ):\n\u001B[1;32m   3811\u001B[0m         \u001B[38;5;28;01mraise\u001B[39;00m InvalidIndexError(key)\n\u001B[0;32m-> 3812\u001B[0m     \u001B[38;5;28;01mraise\u001B[39;00m \u001B[38;5;167;01mKeyError\u001B[39;00m(key) \u001B[38;5;28;01mfrom\u001B[39;00m \u001B[38;5;21;01merr\u001B[39;00m\n\u001B[1;32m   3813\u001B[0m \u001B[38;5;28;01mexcept\u001B[39;00m \u001B[38;5;167;01mTypeError\u001B[39;00m:\n\u001B[1;32m   3814\u001B[0m     \u001B[38;5;66;03m# If we have a listlike key, _check_indexing_error will raise\u001B[39;00m\n\u001B[1;32m   3815\u001B[0m     \u001B[38;5;66;03m#  InvalidIndexError. Otherwise we fall through and re-raise\u001B[39;00m\n\u001B[1;32m   3816\u001B[0m     \u001B[38;5;66;03m#  the TypeError.\u001B[39;00m\n\u001B[1;32m   3817\u001B[0m     \u001B[38;5;28mself\u001B[39m\u001B[38;5;241m.\u001B[39m_check_indexing_error(key)\n",
      "\u001B[0;31mKeyError\u001B[0m: 'delta'"
     ]
    }
   ],
   "execution_count": 16
  },
  {
   "metadata": {},
   "cell_type": "markdown",
   "source": "## 3.3 per‐gene expected genetic variance",
   "id": "cebace7b9ea94fdd"
  },
  {
   "metadata": {},
   "cell_type": "code",
   "outputs": [],
   "execution_count": null,
   "source": [
    "gene_var = {}\n",
    "for tsv in glob.glob(os.path.join(VAR_DIR, \"*\", \"*_variants.tsv\")):\n",
    "    gene = os.path.basename(os.path.dirname(tsv))\n",
    "    df = pd.read_csv(tsv, sep=\"\\t\")\n",
    "    gene_var[gene] = df[\"var_i\"].sum()\n",
    "\n",
    "var_df = pd.DataFrame.from_dict(gene_var, orient=\"index\", columns=[\"exp_genetic_var\"])\n",
    "var_df.index.name = \"gene\"\n",
    "var_df = var_df.reset_index()\n",
    "\n",
    "# merge with expression\n",
    "merged = preds.merge(var_df, on=\"gene\")\n",
    "merged.head()"
   ],
   "id": "95b6c8a2b29e30c4"
  },
  {
   "metadata": {},
   "cell_type": "markdown",
   "source": "## 3.4 scatter expected genetic variance vs. expression",
   "id": "5646d46de219aec6"
  },
  {
   "metadata": {},
   "cell_type": "code",
   "outputs": [],
   "execution_count": null,
   "source": [
    "plt.figure(figsize=(5,5))\n",
    "plt.scatter(merged[\"expr_value\"], merged[\"exp_genetic_var\"], alpha=0.7)\n",
    "plt.xscale(\"log\")\n",
    "plt.yscale(\"log\")\n",
    "plt.xlabel(\"GTEx muscle TPM\")\n",
    "plt.ylabel(\"Expected genetic variance ∑var_i\")\n",
    "plt.title(\"Genetic variance vs expression\")\n",
    "plt.tight_layout()\n",
    "plt.show()"
   ],
   "id": "1d23b564ab272153"
  },
  {
   "metadata": {},
   "cell_type": "markdown",
   "source": "## 3.5 Inspecting one variant file",
   "id": "f235633ba0fb61d0"
  },
  {
   "metadata": {
    "ExecuteTime": {
     "end_time": "2025-06-08T19:36:44.048601Z",
     "start_time": "2025-06-08T19:36:44.039309Z"
    }
   },
   "cell_type": "code",
   "source": [
    "example = glob.glob(os.path.join(VAR_DIR, \"*\", \"*_variants.tsv\"))[0]\n",
    "print(\"Example file:\", example)\n",
    "pd.read_csv(example, sep=\"\\t\").head()"
   ],
   "id": "5004b2f7a12ec6ea",
   "outputs": [
    {
     "name": "stdout",
     "output_type": "stream",
     "text": [
      "Example file: ../data/intermediate/dataset1/flashzoi_inputs/variants/ENSG00000131061/ENSG00000131061_variants.tsv\n"
     ]
    },
    {
     "data": {
      "text/plain": [
       "   CHROM       POS  POS0 REF ALT        AF\n",
       "0  chr20  33471042  1190   A   G  0.001021\n",
       "1  chr20  33471186  1334   T   C  0.001342\n",
       "2  chr20  33471221  1369   C   A  0.010552\n",
       "3  chr20  33471221  1369   C  CA  0.015539\n",
       "4  chr20  33471221  1369  CA   C  0.003863"
      ],
      "text/html": [
       "<div>\n",
       "<style scoped>\n",
       "    .dataframe tbody tr th:only-of-type {\n",
       "        vertical-align: middle;\n",
       "    }\n",
       "\n",
       "    .dataframe tbody tr th {\n",
       "        vertical-align: top;\n",
       "    }\n",
       "\n",
       "    .dataframe thead th {\n",
       "        text-align: right;\n",
       "    }\n",
       "</style>\n",
       "<table border=\"1\" class=\"dataframe\">\n",
       "  <thead>\n",
       "    <tr style=\"text-align: right;\">\n",
       "      <th></th>\n",
       "      <th>CHROM</th>\n",
       "      <th>POS</th>\n",
       "      <th>POS0</th>\n",
       "      <th>REF</th>\n",
       "      <th>ALT</th>\n",
       "      <th>AF</th>\n",
       "    </tr>\n",
       "  </thead>\n",
       "  <tbody>\n",
       "    <tr>\n",
       "      <th>0</th>\n",
       "      <td>chr20</td>\n",
       "      <td>33471042</td>\n",
       "      <td>1190</td>\n",
       "      <td>A</td>\n",
       "      <td>G</td>\n",
       "      <td>0.001021</td>\n",
       "    </tr>\n",
       "    <tr>\n",
       "      <th>1</th>\n",
       "      <td>chr20</td>\n",
       "      <td>33471186</td>\n",
       "      <td>1334</td>\n",
       "      <td>T</td>\n",
       "      <td>C</td>\n",
       "      <td>0.001342</td>\n",
       "    </tr>\n",
       "    <tr>\n",
       "      <th>2</th>\n",
       "      <td>chr20</td>\n",
       "      <td>33471221</td>\n",
       "      <td>1369</td>\n",
       "      <td>C</td>\n",
       "      <td>A</td>\n",
       "      <td>0.010552</td>\n",
       "    </tr>\n",
       "    <tr>\n",
       "      <th>3</th>\n",
       "      <td>chr20</td>\n",
       "      <td>33471221</td>\n",
       "      <td>1369</td>\n",
       "      <td>C</td>\n",
       "      <td>CA</td>\n",
       "      <td>0.015539</td>\n",
       "    </tr>\n",
       "    <tr>\n",
       "      <th>4</th>\n",
       "      <td>chr20</td>\n",
       "      <td>33471221</td>\n",
       "      <td>1369</td>\n",
       "      <td>CA</td>\n",
       "      <td>C</td>\n",
       "      <td>0.003863</td>\n",
       "    </tr>\n",
       "  </tbody>\n",
       "</table>\n",
       "</div>"
      ]
     },
     "execution_count": 17,
     "metadata": {},
     "output_type": "execute_result"
    }
   ],
   "execution_count": 17
  },
  {
   "metadata": {},
   "cell_type": "code",
   "outputs": [],
   "execution_count": null,
   "source": "",
   "id": "2af4182fb7041119"
  }
 ],
 "metadata": {
  "kernelspec": {
   "display_name": "Python 3",
   "language": "python",
   "name": "python3"
  },
  "language_info": {
   "codemirror_mode": {
    "name": "ipython",
    "version": 2
   },
   "file_extension": ".py",
   "mimetype": "text/x-python",
   "name": "python",
   "nbconvert_exporter": "python",
   "pygments_lexer": "ipython2",
   "version": "2.7.6"
  }
 },
 "nbformat": 4,
 "nbformat_minor": 5
}
